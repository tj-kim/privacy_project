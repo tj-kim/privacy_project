{
 "cells": [
  {
   "cell_type": "markdown",
   "metadata": {},
   "source": [
    "# Week 1: Binary Logistic Regression Classifier Build From Iris Data\n",
    "Init:   September 28 2019\n",
    "\n",
    "Update: 10/8/19\n",
    "\n",
    "Goal: Build a binary logistic classifier from the iris.csv data using sklearn.\n",
    "Stretch Goal: Build a tri-class classifier\n",
    "\n",
    "We will use the lbfgs solver with  no regression done at all. We want to have no regression as we only want to deal with the parameters and not the hyper-parameters."
   ]
  },
  {
   "cell_type": "markdown",
   "metadata": {},
   "source": [
    "## Running Binary Classifier\n",
    "\n",
    "Here we import the iris.csv dataset"
   ]
  },
  {
   "cell_type": "code",
   "execution_count": 1,
   "metadata": {},
   "outputs": [],
   "source": [
    "import re\n",
    "import matplotlib\n",
    "import numpy as np\n",
    "import matplotlib.pyplot as plt\n",
    "import pandas as pd\n",
    "import seaborn as sns\n",
    "from sklearn.model_selection import train_test_split\n",
    "\n",
    "# Import Dataset\n",
    "filename = \"iris.csv\"\n",
    "df = pd.read_csv(filename, sep='\\s*,\\s*',engine = 'python')\n",
    "\n",
    "# Separate Dataset into each\n",
    "setosa_set = df[df[\"class\"]==\"Iris-setosa\"]\n",
    "versicolor_set = df[df[\"class\"]==\"Iris-versicolor\"]\n",
    "virginica_set = df[df[\"class\"]==\"Iris-virginica\"]\n",
    "\n",
    "# Separate each dataset into training and testing data\n",
    "total_train,total_test = train_test_split(df, random_state=42, test_size=0.3, shuffle=True)\n",
    "setosa_train, setosa_test = train_test_split(setosa_set, random_state=42, test_size=0.3, shuffle=True)\n",
    "versicolor_train, versicolor_test = train_test_split(versicolor_set, random_state=42, test_size=0.3, shuffle=True)\n",
    "virginica_train, virginica_test = train_test_split(virginica_set, random_state=42, test_size=0.3, shuffle=True)"
   ]
  },
  {
   "cell_type": "markdown",
   "metadata": {},
   "source": [
    "## Run Logistic Fitting On Iris Data\n",
    "We use pandas to build dataframes and SKlearn's logistic regression based on string based classes"
   ]
  },
  {
   "cell_type": "code",
   "execution_count": 2,
   "metadata": {},
   "outputs": [
    {
     "name": "stdout",
     "output_type": "stream",
     "text": [
      "Accuracy of logistic regression classifier on test set: 1.00\n"
     ]
    }
   ],
   "source": [
    "# Logistic Model Fitting\n",
    "from sklearn.linear_model import LogisticRegression\n",
    "from sklearn import metrics\n",
    "\n",
    "# Split training/test data to input and output\n",
    "cols = ['sepal length','sepal width', 'petal length', 'petal width']\n",
    "y_val = 'class'\n",
    "# Train Data\n",
    "x_setosa_train = setosa_train[cols]\n",
    "y_setosa_train = setosa_train[y_val]\n",
    "x_versicolor_train = versicolor_train[cols]\n",
    "y_versicolor_train = versicolor_train[y_val]\n",
    "\n",
    "\"\"\"Running Simulation for 2 class case\"\"\"\n",
    "\n",
    "x_train = x_setosa_train.append(x_versicolor_train)\n",
    "y_train = y_setosa_train.append(y_versicolor_train)\n",
    "\n",
    "x_test = setosa_test[cols].append(versicolor_test[cols])\n",
    "y_test = setosa_test[y_val].append(versicolor_test[y_val])\n",
    "\n",
    "\"\"\"Running Simulations for the 3 class case\"\"\"\n",
    "#x_train = total_train[cols]\n",
    "#y_train = total_train[y_val]\n",
    "\n",
    "#x_test = total_test[cols]\n",
    "#y_test = total_test[y_val]\n",
    "\n",
    "# Run Logistic Regression\n",
    "#logreg = LogisticRegression(penalty = 'none',solver = 'lbfgs')\n",
    "logreg = LogisticRegression(solver=\"liblinear\")\n",
    "logreg.fit(x_train,y_train)\n",
    "\n",
    "# Predict Test Result and calculate Accuracy\n",
    "y_pred = logreg.predict(x_test)\n",
    "print('Accuracy of logistic regression classifier on test set: {:.2f}'.format(logreg.score(x_test, y_test)))"
   ]
  },
  {
   "cell_type": "markdown",
   "metadata": {},
   "source": [
    "## Obtain Parameter Vector\n",
    "Here we obtain what the parameter vector is so we can solve for it later on."
   ]
  },
  {
   "cell_type": "code",
   "execution_count": 3,
   "metadata": {},
   "outputs": [
    {
     "data": {
      "text/plain": [
       "array([[-0.38897155, -1.31781989,  2.06492322,  0.90383684]])"
      ]
     },
     "execution_count": 3,
     "metadata": {},
     "output_type": "execute_result"
    }
   ],
   "source": [
    "logreg.coef_"
   ]
  },
  {
   "cell_type": "markdown",
   "metadata": {},
   "source": [
    "## Linear System of Equation Solving Attack\n",
    "\n",
    "Next, we attack the binary logistic classifier we built by inputting d+1 predictions. \"d\" is the number of values in the weight vectors. It is important that we obtain confidence values rather than just binary classifications to make this possible"
   ]
  },
  {
   "cell_type": "code",
   "execution_count": 4,
   "metadata": {},
   "outputs": [],
   "source": [
    "num_queries = 5\n",
    "# Generate query data for d+1 (num_queries) inputs\n",
    "sepal_lengths = np.random.rand(num_queries) * 5\n",
    "sepal_widths = np.random.rand(num_queries) * 4\n",
    "petal_lengths = np.random.rand(num_queries) * 7\n",
    "petal_widths = np.random.rand(num_queries) * 2.5\n",
    "\n",
    "# Generate Pandas Dataframe and use model to predict output\n",
    "d = {'sepal length': sepal_lengths, 'sepal width': sepal_widths,'petal length':petal_lengths,'petal width':petal_widths}\n",
    "x_test1 = pd.DataFrame(data=d)\n",
    "y_test1 = logreg.predict(x_test1)"
   ]
  },
  {
   "cell_type": "code",
   "execution_count": 5,
   "metadata": {},
   "outputs": [],
   "source": [
    "# Function - calculate sigmoid inverse given output to sigmoid function, can take 2D vector inputs\n",
    "def get_sigmoid_inv(out_val):\n",
    "    idx = 0\n",
    "    for i in out_val:\n",
    "        if i == 1:\n",
    "            out_val[idx] = 0.999999999999999\n",
    "        idx += 1\n",
    "    in_val = -1*np.log(np.divide(1,out_val) - 1)\n",
    "    return in_val"
   ]
  },
  {
   "cell_type": "code",
   "execution_count": 6,
   "metadata": {},
   "outputs": [],
   "source": [
    "# Obtain P(y = 1) vals for entire array - the confidence intervals for iris setosa (0) vs iris versicolor (1)\n",
    "conf = logreg.predict_proba(x_test1)[:,1]\n",
    "xw_s = get_sigmoid_inv(conf)\n",
    "bias = np.ones((num_queries,1))\n",
    "x_testvals = np.concatenate((bias, x_test1.values), 1)"
   ]
  },
  {
   "cell_type": "code",
   "execution_count": 13,
   "metadata": {},
   "outputs": [
    {
     "name": "stderr",
     "output_type": "stream",
     "text": [
      "/home/tkim/anaconda3/lib/python3.7/site-packages/ipykernel_launcher.py:1: FutureWarning: `rcond` parameter will change to the default of machine precision times ``max(M, N)`` where M and N are the input matrix dimensions.\n",
      "To use the future default and silence this warning we advise to pass `rcond=None`, to keep using the old, explicitly pass `rcond=-1`.\n",
      "  \"\"\"Entry point for launching an IPython kernel.\n"
     ]
    },
    {
     "data": {
      "text/plain": [
       "array([-0.23649762, -0.38897155, -1.31781989,  2.06492322,  0.90383684])"
      ]
     },
     "execution_count": 13,
     "metadata": {},
     "output_type": "execute_result"
    }
   ],
   "source": [
    "w_approx = np.linalg.lstsq(x_testvals,xw_s)\n",
    "w_approx[0]"
   ]
  },
  {
   "cell_type": "code",
   "execution_count": 8,
   "metadata": {},
   "outputs": [
    {
     "data": {
      "text/plain": [
       "array([-0.23649762, -0.38897155, -1.31781989,  2.06492322,  0.90383684])"
      ]
     },
     "execution_count": 8,
     "metadata": {},
     "output_type": "execute_result"
    }
   ],
   "source": [
    "real_weights = np.append(logreg.intercept_,logreg.coef_)\n",
    "real_weights"
   ]
  },
  {
   "cell_type": "markdown",
   "metadata": {},
   "source": [
    "## Averaging over Multiple Attacks - Attack Extraction and Conversion\n",
    "We will be attacking the parameters multiple times and taking the average of the weight vectors extracted.\n",
    "We will see how many times we have to attack for the weights to converge."
   ]
  },
  {
   "cell_type": "code",
   "execution_count": 9,
   "metadata": {},
   "outputs": [
    {
     "data": {
      "text/plain": [
       "Text(0, 0.5, 'L2 Norm Error')"
      ]
     },
     "execution_count": 9,
     "metadata": {},
     "output_type": "execute_result"
    },
    {
     "data": {
      "image/png": "[encoded data removed]",
      "text/plain": [
       "<Figure size 432x288 with 1 Axes>"
      ]
     },
     "metadata": {
      "needs_background": "light"
     },
     "output_type": "display_data"
    }
   ],
   "source": [
    "# Create empty array to hold outputs \n",
    "iters = 200\n",
    "x_axis = range(0,iters)\n",
    "w_temp = np.zeros((iters,real_weights.size))\n",
    "error_axis = np.zeros(iters)\n",
    "num_queries = 5\n",
    "\n",
    "# Obtain \"iters\" number of weight vector estimation from random data\n",
    "# Plot the difference with every iteration\n",
    "for i in x_axis:\n",
    "    # Generate query data for d+1 (5) inputs\n",
    "    sepal_lengths = np.random.rand(num_queries)*5 + 0.2\n",
    "    sepal_widths = np.random.rand(num_queries)*2 + 0.2\n",
    "    petal_lengths = np.random.rand(num_queries)*5 + 0.2\n",
    "    petal_widths = np.random.rand(num_queries)*2 + 0.2\n",
    "\n",
    "    # Generate Pandas Dataframe and use model to predict output\n",
    "    d = {'sepal length': sepal_lengths, 'sepal width': sepal_widths,'petal length':petal_lengths,'petal width':petal_widths}\n",
    "    x_test1 = pd.DataFrame(data=d)\n",
    "    y_test1 = logreg.predict(x_test1)\n",
    "    conf = logreg.predict_proba(x_test1)[:,1]\n",
    "    xw_s = get_sigmoid_inv(conf)\n",
    "    \n",
    "    # Add bias terms\n",
    "    x_testvals = np.concatenate((bias, x_test1.values), 1)\n",
    "    \n",
    "    w_temp[i,:] = np.linalg.solve(x_testvals,xw_s)\n",
    "    \n",
    "    # Obtain Average and difference\n",
    "    w_avg = np.sum(w_temp, axis=0)/(i+1)\n",
    "    w_diff = np.sum([real_weights,-1*w_avg],axis=0)\n",
    "    error_axis[i] = np.linalg.norm(w_diff,ord=2)\n",
    "\n",
    "plt.plot(x_axis,error_axis)\n",
    "plt.title(\"L2 Norm of Error with Iterations\")\n",
    "plt.xlabel(\"Iteration\")\n",
    "plt.ylabel(\"L2 Norm Error\")"
   ]
  },
  {
   "cell_type": "code",
   "execution_count": 10,
   "metadata": {},
   "outputs": [
    {
     "data": {
      "text/plain": [
       "1.0445405696511774e-12"
      ]
     },
     "execution_count": 10,
     "metadata": {},
     "output_type": "execute_result"
    }
   ],
   "source": [
    "np.mean(error_axis)"
   ]
  },
  {
   "cell_type": "code",
   "execution_count": 11,
   "metadata": {},
   "outputs": [
    {
     "data": {
      "text/plain": [
       "array([-0.23649762, -0.38897155, -1.31781989,  2.06492322,  0.90383684])"
      ]
     },
     "execution_count": 11,
     "metadata": {},
     "output_type": "execute_result"
    }
   ],
   "source": [
    "w_avg"
   ]
  },
  {
   "cell_type": "code",
   "execution_count": 12,
   "metadata": {},
   "outputs": [
    {
     "data": {
      "text/plain": [
       "array([-0.23649762, -0.38897155, -1.31781989,  2.06492322,  0.90383684])"
      ]
     },
     "execution_count": 12,
     "metadata": {},
     "output_type": "execute_result"
    }
   ],
   "source": [
    "real_weights"
   ]
  },
  {
   "cell_type": "code",
   "execution_count": null,
   "metadata": {},
   "outputs": [],
   "source": []
  }
 ],
 "metadata": {
  "kernelspec": {
   "display_name": "Python 3",
   "language": "python",
   "name": "python3"
  },
  "language_info": {
   "codemirror_mode": {
    "name": "ipython",
    "version": 3
   },
   "file_extension": ".py",
   "mimetype": "text/x-python",
   "name": "python",
   "nbconvert_exporter": "python",
   "pygments_lexer": "ipython3",
   "version": "3.7.3"
  }
 },
 "nbformat": 4,
 "nbformat_minor": 2
}
