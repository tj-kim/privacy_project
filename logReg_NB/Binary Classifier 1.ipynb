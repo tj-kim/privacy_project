{
 "cells": [
  {
   "cell_type": "markdown",
   "metadata": {},
   "source": [
    "# Week 1: Binary Logistic Regression Classifier Build From Iris Data\n",
    "September 28 2019\n",
    "\n",
    "Goal: Build a binary logistic classifier from the iris.csv data using sklearn.\n",
    "Stretch Goal: Build a tri-class classifier"
   ]
  },
  {
   "cell_type": "markdown",
   "metadata": {},
   "source": [
    "## Running Binary Classifier\n",
    "\n",
    "Here we import the iris.csv dataset"
   ]
  },
  {
   "cell_type": "code",
   "execution_count": 1,
   "metadata": {},
   "outputs": [],
   "source": [
    "import re\n",
    "import matplotlib\n",
    "import numpy as np\n",
    "import matplotlib.pyplot as plt\n",
    "import pandas as pd\n",
    "import seaborn as sns\n",
    "from sklearn.model_selection import train_test_split\n",
    "\n",
    "# Import Dataset\n",
    "filename = \"iris.csv\"\n",
    "df = pd.read_csv(filename, sep='\\s*,\\s*',engine = 'python')\n",
    "\n",
    "# Separate Dataset into each\n",
    "setosa_set = df[df[\"class\"]==\"Iris-setosa\"]\n",
    "versicolor_set = df[df[\"class\"]==\"Iris-versicolor\"]\n",
    "virginica_set = df[df[\"class\"]==\"Iris-virginica\"]\n",
    "\n",
    "# Separate each dataset into training and testing data\n",
    "total_train,total_test = train_test_split(df, random_state=42, test_size=0.3, shuffle=True)\n",
    "setosa_train, setosa_test = train_test_split(setosa_set, random_state=42, test_size=0.3, shuffle=True)\n",
    "versicolor_train, versicolor_test = train_test_split(versicolor_set, random_state=42, test_size=0.3, shuffle=True)\n",
    "virginica_train, virginica_test = train_test_split(virginica_set, random_state=42, test_size=0.3, shuffle=True)"
   ]
  },
  {
   "cell_type": "markdown",
   "metadata": {},
   "source": [
    "## Run Logistic Fitting On Iris Data\n",
    "We use pandas to build dataframes and SKlearn's logistic regression based on string based classes"
   ]
  },
  {
   "cell_type": "code",
   "execution_count": 19,
   "metadata": {},
   "outputs": [
    {
     "name": "stdout",
     "output_type": "stream",
     "text": [
      "Accuracy of logistic regression classifier on test set: 0.98\n"
     ]
    },
    {
     "name": "stderr",
     "output_type": "stream",
     "text": [
      "/home/tkim/anaconda3/lib/python3.7/site-packages/sklearn/linear_model/logistic.py:432: FutureWarning: Default solver will be changed to 'lbfgs' in 0.22. Specify a solver to silence this warning.\n",
      "  FutureWarning)\n",
      "/home/tkim/anaconda3/lib/python3.7/site-packages/sklearn/linear_model/logistic.py:469: FutureWarning: Default multi_class will be changed to 'auto' in 0.22. Specify the multi_class option to silence this warning.\n",
      "  \"this warning.\", FutureWarning)\n"
     ]
    }
   ],
   "source": [
    "# Logistic Model Fitting\n",
    "from sklearn.linear_model import LogisticRegression\n",
    "from sklearn import metrics\n",
    "\n",
    "# Split training/test data to input and output\n",
    "cols = ['sepal length','sepal width', 'petal length', 'petal width']\n",
    "y_val = 'class'\n",
    "# Train Data\n",
    "x_setosa_train = setosa_train[cols]\n",
    "y_setosa_train = setosa_train[y_val]\n",
    "x_versicolor_train = versicolor_train[cols]\n",
    "y_versicolor_train = versicolor_train[y_val]\n",
    "\n",
    "\"\"\"Running Simulation for 2 class case\"\"\"\n",
    "\n",
    "x_train = x_setosa_train.append(x_versicolor_train)\n",
    "y_train = y_setosa_train.append(y_versicolor_train)\n",
    "\n",
    "x_test = setosa_test[cols].append(versicolor_test[cols])\n",
    "y_test = setosa_test[y_val].append(versicolor_test[y_val])\n",
    "\n",
    "\"\"\"Running Simulations for the 3 class case\"\"\"\n",
    "x_train = total_train[cols]\n",
    "y_train = total_train[y_val]\n",
    "\n",
    "x_test = total_test[cols]\n",
    "y_test = total_test[y_val]\n",
    "\n",
    "# Run Logistic Regression\n",
    "logreg = LogisticRegression()\n",
    "logreg.fit(x_train,y_train)\n",
    "\n",
    "# Predict Test Result and calculate Accuracy\n",
    "y_pred = logreg.predict(x_test)\n",
    "print('Accuracy of logistic regression classifier on test set: {:.2f}'.format(logreg.score(x_test, y_test)))"
   ]
  },
  {
   "cell_type": "markdown",
   "metadata": {},
   "source": [
    "## Obtain Parameter Vector\n",
    "Here we obtain what the parameter vector is so we can solve for it later on."
   ]
  },
  {
   "cell_type": "code",
   "execution_count": 20,
   "metadata": {},
   "outputs": [
    {
     "data": {
      "text/plain": [
       "array([[ 0.37158254,  1.35098324, -2.09936396, -0.93263471],\n",
       "       [ 0.46758048, -1.57259888,  0.39692171, -1.0678223 ],\n",
       "       [-1.52865509, -1.43245908,  2.30484329,  2.08586834]])"
      ]
     },
     "execution_count": 20,
     "metadata": {},
     "output_type": "execute_result"
    }
   ],
   "source": [
    "logreg.coef_"
   ]
  },
  {
   "cell_type": "markdown",
   "metadata": {},
   "source": [
    "## Linear System of Equation Solving Attack\n",
    "\n",
    "Next, we attack the binary logistic classifier we built by inputting d+1 predictions. \"d\" is the number of values in the weight vectors. It is important that we obtain confidence values rather than just binary classifications to make this possible"
   ]
  },
  {
   "cell_type": "code",
   "execution_count": 4,
   "metadata": {},
   "outputs": [],
   "source": [
    "# Generate query data for d+1 (5) inputs\n",
    "sepal_lengths = np.random.rand(4) * 5\n",
    "sepal_widths = np.random.rand(4) * 4\n",
    "petal_lengths = np.random.rand(4) * 7\n",
    "petal_widths = np.random.rand(4) * 2.5\n",
    "\n",
    "# Generate Pandas Dataframe and use model to predict output\n",
    "d = {'sepal length': sepal_lengths, 'sepal width': sepal_widths,'petal length':petal_lengths,'petal width':petal_widths}\n",
    "x_test1 = pd.DataFrame(data=d)\n",
    "y_test1 = logreg.predict(x_test1)"
   ]
  },
  {
   "cell_type": "code",
   "execution_count": 5,
   "metadata": {},
   "outputs": [],
   "source": [
    "# Function - calculate sigmoid inverse given output to sigmoid function, can take 2D vector inputs\n",
    "def get_sigmoid_inv(out_val):\n",
    "    in_val = -1*np.log(np.divide(1,out_val) - 1)\n",
    "    return in_val"
   ]
  },
  {
   "cell_type": "code",
   "execution_count": 6,
   "metadata": {},
   "outputs": [],
   "source": [
    "# Obtain P(y = 1) vals for entire array - the confidence intervals for iris setosa (0) vs iris versicolor (1)\n",
    "conf = logreg.predict_proba(x_test1)[:,1]\n",
    "xw_s = get_sigmoid_inv(conf)"
   ]
  },
  {
   "cell_type": "code",
   "execution_count": 13,
   "metadata": {},
   "outputs": [
    {
     "data": {
      "text/plain": [
       "array([-0.26585045,  5.62252251,  7.852434  , -2.57833001])"
      ]
     },
     "execution_count": 13,
     "metadata": {},
     "output_type": "execute_result"
    }
   ],
   "source": [
    "xw_s"
   ]
  },
  {
   "cell_type": "code",
   "execution_count": 8,
   "metadata": {},
   "outputs": [
    {
     "data": {
      "text/plain": [
       "array([[3.76858352, 3.70895561, 1.56246442, 3.43561954],\n",
       "       [3.01621121, 1.58559   , 1.6590499 , 1.80230802],\n",
       "       [2.39763095, 4.12439864, 4.68714323, 0.24307408],\n",
       "       [0.50940415, 0.96771208, 1.33256781, 0.96003377]])"
      ]
     },
     "execution_count": 8,
     "metadata": {},
     "output_type": "execute_result"
    }
   ],
   "source": [
    "np.transpose(x_test1.values)"
   ]
  },
  {
   "cell_type": "code",
   "execution_count": 14,
   "metadata": {},
   "outputs": [
    {
     "data": {
      "text/plain": [
       "array([-0.40890087, -1.35253721,  2.06460538,  0.7940704 ])"
      ]
     },
     "execution_count": 14,
     "metadata": {},
     "output_type": "execute_result"
    }
   ],
   "source": [
    "w_approx = np.linalg.solve(x_test1.values,xw_s)\n",
    "w_approx"
   ]
  },
  {
   "cell_type": "code",
   "execution_count": 15,
   "metadata": {},
   "outputs": [
    {
     "data": {
      "text/plain": [
       "array([[-0.38897155, -1.31781989,  2.06492322,  0.90383684]])"
      ]
     },
     "execution_count": 15,
     "metadata": {},
     "output_type": "execute_result"
    }
   ],
   "source": [
    "logreg.coef_"
   ]
  },
  {
   "cell_type": "code",
   "execution_count": 16,
   "metadata": {},
   "outputs": [
    {
     "data": {
      "text/html": [
       "<div>\n",
       "<style scoped>\n",
       "    .dataframe tbody tr th:only-of-type {\n",
       "        vertical-align: middle;\n",
       "    }\n",
       "\n",
       "    .dataframe tbody tr th {\n",
       "        vertical-align: top;\n",
       "    }\n",
       "\n",
       "    .dataframe thead th {\n",
       "        text-align: right;\n",
       "    }\n",
       "</style>\n",
       "<table border=\"1\" class=\"dataframe\">\n",
       "  <thead>\n",
       "    <tr style=\"text-align: right;\">\n",
       "      <th></th>\n",
       "      <th>sepal length</th>\n",
       "      <th>sepal width</th>\n",
       "      <th>petal length</th>\n",
       "      <th>petal width</th>\n",
       "    </tr>\n",
       "  </thead>\n",
       "  <tbody>\n",
       "    <tr>\n",
       "      <th>0</th>\n",
       "      <td>3.768584</td>\n",
       "      <td>3.016211</td>\n",
       "      <td>2.397631</td>\n",
       "      <td>0.509404</td>\n",
       "    </tr>\n",
       "    <tr>\n",
       "      <th>1</th>\n",
       "      <td>3.708956</td>\n",
       "      <td>1.585590</td>\n",
       "      <td>4.124399</td>\n",
       "      <td>0.967712</td>\n",
       "    </tr>\n",
       "    <tr>\n",
       "      <th>2</th>\n",
       "      <td>1.562464</td>\n",
       "      <td>1.659050</td>\n",
       "      <td>4.687143</td>\n",
       "      <td>1.332568</td>\n",
       "    </tr>\n",
       "    <tr>\n",
       "      <th>3</th>\n",
       "      <td>3.435620</td>\n",
       "      <td>1.802308</td>\n",
       "      <td>0.243074</td>\n",
       "      <td>0.960034</td>\n",
       "    </tr>\n",
       "  </tbody>\n",
       "</table>\n",
       "</div>"
      ],
      "text/plain": [
       "   sepal length  sepal width  petal length  petal width\n",
       "0      3.768584     3.016211      2.397631     0.509404\n",
       "1      3.708956     1.585590      4.124399     0.967712\n",
       "2      1.562464     1.659050      4.687143     1.332568\n",
       "3      3.435620     1.802308      0.243074     0.960034"
      ]
     },
     "execution_count": 16,
     "metadata": {},
     "output_type": "execute_result"
    }
   ],
   "source": [
    "x_test1"
   ]
  },
  {
   "cell_type": "code",
   "execution_count": 18,
   "metadata": {},
   "outputs": [
    {
     "data": {
      "text/plain": [
       "array([0.43392609, 0.99639752, 0.99961135, 0.07054615])"
      ]
     },
     "execution_count": 18,
     "metadata": {},
     "output_type": "execute_result"
    }
   ],
   "source": [
    "conf"
   ]
  },
  {
   "cell_type": "code",
   "execution_count": null,
   "metadata": {},
   "outputs": [],
   "source": []
  }
 ],
 "metadata": {
  "kernelspec": {
   "display_name": "Python 3",
   "language": "python",
   "name": "python3"
  },
  "language_info": {
   "codemirror_mode": {
    "name": "ipython",
    "version": 3
   },
   "file_extension": ".py",
   "mimetype": "text/x-python",
   "name": "python",
   "nbconvert_exporter": "python",
   "pygments_lexer": "ipython3",
   "version": "3.7.3"
  }
 },
 "nbformat": 4,
 "nbformat_minor": 2
}
