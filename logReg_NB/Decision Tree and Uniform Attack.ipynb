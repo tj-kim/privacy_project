{
 "cells": [
  {
   "cell_type": "markdown",
   "metadata": {},
   "source": [
    "# Decision Tree Attack and Uniform Extraction\n",
    "TJ Kim, 26 Oct 2019\n",
    "\n",
    "We build a decision tree classifier for the data in encoded_adult.csv. The inputs are all the encoded characteristics, while the output is whether or not the income is greater than 50k or not for a person (binary).\n",
    "\n",
    "We get the class labels only as outputs. Therefore, we do a uniform attack that queries the classifier and uses the output as combinations to make a new trainer."
   ]
  },
  {
   "cell_type": "markdown",
   "metadata": {},
   "source": [
    "## Importing Data\n",
    "First we import CSV data as pandas and divide to test and training set."
   ]
  },
  {
   "cell_type": "code",
   "execution_count": 2,
   "metadata": {},
   "outputs": [],
   "source": [
    "import re\n",
    "import matplotlib\n",
    "import numpy as np\n",
    "import matplotlib.pyplot as plt\n",
    "import pandas as pd\n",
    "import seaborn as sns\n",
    "from sklearn.model_selection import train_test_split\n",
    "from sklearn import metrics\n",
    "from sklearn import tree\n",
    "\n",
    "# Import Dataset\n",
    "filename = \"adult_encoded.csv\"\n",
    "df = pd.read_csv(filename, sep='\\s*,\\s*',engine = 'python')\n",
    "df = df.loc[:,df.columns != 'Unnamed: 0']\n",
    "\n",
    "# Separate each dataset into training, testing, and query data\n",
    "total_rest,total_test = train_test_split(df, random_state=30, test_size=0.2, shuffle=True)\n",
    "total_train,queries = train_test_split(total_rest,random_state = 30, test_size = 0.4, shuffle = True)\n",
    "\n",
    "# Separate each sub dataset to input and output\n",
    "total_train_data = total_train.loc[:,total_train.columns != 'income_over_50k']\n",
    "total_train_label = total_train.loc[:,total_train.columns =='income_over_50k']\n",
    "total_test_data = total_train.loc[:,total_test.columns != 'income_over_50k']\n",
    "total_test_label = total_train.loc[:,total_test.columns =='income_over_50k']\n",
    "query_data = queries.loc[:,queries.columns !='income_over_50k']\n",
    "query_label = queries.loc[:,queries.columns =='income_over_50k']"
   ]
  },
  {
   "cell_type": "markdown",
   "metadata": {},
   "source": [
    "## Build and Run Decision Tree\n",
    "\n",
    "We use the train data to build a decision tree (of any arbitrary depth at the moment) and use the test data to obtain the accuracy."
   ]
  },
  {
   "cell_type": "code",
   "execution_count": 6,
   "metadata": {},
   "outputs": [
    {
     "data": {
      "text/plain": [
       "0.9787143283709423"
      ]
     },
     "execution_count": 6,
     "metadata": {},
     "output_type": "execute_result"
    }
   ],
   "source": [
    "# Build and train Decision Tree Classifier\n",
    "model = tree.DecisionTreeClassifier()\n",
    "model.fit(total_train_data,total_train_label)\n",
    "\n",
    "# Prediction and Accuracy\n",
    "from sklearn.metrics import accuracy_score\n",
    "y_predict = model.predict(total_test_data)\n",
    "accuracy_score(total_test_label,y_predict)"
   ]
  },
  {
   "cell_type": "markdown",
   "metadata": {},
   "source": [
    "The accuracy for the decision tree is significantly better for the logistic regression model. The logistic regression model has approximately 85% accuracy, while the decision tree has 98%. Maybe this is because the dataset we are using has many categorical inputs, which decision trees handle better."
   ]
  },
  {
   "cell_type": "markdown",
   "metadata": {},
   "source": [
    "## Utilize Uniform Label Attack to Steal decision tree\n",
    "\n",
    "Here, we will attack the decision tree by querying the tree and using the output to train our own tree."
   ]
  },
  {
   "cell_type": "code",
   "execution_count": 12,
   "metadata": {},
   "outputs": [
    {
     "data": {
      "text/plain": [
       "0.8504457620611696"
      ]
     },
     "execution_count": 12,
     "metadata": {},
     "output_type": "execute_result"
    }
   ],
   "source": [
    "# Obtain query labels and then build own decision tree\n",
    "y_query = model.predict(query_data)\n",
    "model_stolen = tree.DecisionTreeClassifier()\n",
    "model_stolen.fit(query_data,y_query)\n",
    "\n",
    "# Prediction and Accuracy\n",
    "y_q_predict = model_stolen.predict(total_test_data)\n",
    "accuracy_score(total_test_label,y_q_predict)"
   ]
  },
  {
   "cell_type": "markdown",
   "metadata": {},
   "source": [
    "We observe that the accuracy significantly suffers as it falls from 98% to 85% with the uniform attack model. However, that is still very high considering that we attempt a very naive attack."
   ]
  },
  {
   "cell_type": "markdown",
   "metadata": {},
   "source": [
    "## Sweep number of queries against performance\n",
    "\n",
    "Next, we will sweep the number of queries to see how accuracy increases as we query more."
   ]
  },
  {
   "cell_type": "code",
   "execution_count": 33,
   "metadata": {},
   "outputs": [],
   "source": [
    "query_num1 = np.arange(5,100,2)\n",
    "query_num2 = np.arange(100,y_query.size,100)\n",
    "query_num = np.concatenate([query_num1, query_num2])\n",
    "accs = np.zeros(query_num.size)\n",
    "accs_idx = 0\n",
    "\n",
    "for num in query_num:\n",
    "    # take subset of query data and obtain labels from real classifier\n",
    "    samp = query_data.sample(n=num)\n",
    "    sweep_labels = model.predict(samp)\n",
    "    # Build stolen classifier with output data\n",
    "    model_sweep = tree.DecisionTreeClassifier()\n",
    "    model_sweep.fit(samp,sweep_labels)\n",
    "    sweep_pred = model_sweep.predict(total_test_data)\n",
    "    accs[accs_idx] = accuracy_score(total_test_label,sweep_pred)\n",
    "    accs_idx += 1"
   ]
  },
  {
   "cell_type": "code",
   "execution_count": 34,
   "metadata": {},
   "outputs": [
    {
     "data": {
      "text/plain": [
       "Text(0, 0.5, 'Accuracy Proportion')"
      ]
     },
     "execution_count": 34,
     "metadata": {},
     "output_type": "execute_result"
    },
    {
     "data": {
      "image/png": "[encoded data removed]",
      "text/plain": [
       "<Figure size 432x288 with 1 Axes>"
      ]
     },
     "metadata": {
      "needs_background": "light"
     },
     "output_type": "display_data"
    }
   ],
   "source": [
    "# Plot the accuracy\n",
    "plt.plot(query_num,accs)\n",
    "plt.title(\"Stolen Decision Tree Accuracy with Queries\")\n",
    "plt.xlabel(\"Number of Queries\")\n",
    "plt.ylabel(\"Accuracy Proportion\")"
   ]
  },
  {
   "cell_type": "code",
   "execution_count": null,
   "metadata": {},
   "outputs": [],
   "source": []
  }
 ],
 "metadata": {
  "kernelspec": {
   "display_name": "Python 3",
   "language": "python",
   "name": "python3"
  },
  "language_info": {
   "codemirror_mode": {
    "name": "ipython",
    "version": 3
   },
   "file_extension": ".py",
   "mimetype": "text/x-python",
   "name": "python",
   "nbconvert_exporter": "python",
   "pygments_lexer": "ipython3",
   "version": "3.7.3"
  }
 },
 "nbformat": 4,
 "nbformat_minor": 2
}
