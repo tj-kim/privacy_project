{
 "cells": [
  {
   "cell_type": "markdown",
   "metadata": {},
   "source": [
    "# Binary Classifier 2\n",
    "TJ Kim, 21 Oct 2019\n",
    "\n",
    "We build a logistic regression model for the data in encoded_adult.csv. The inputs are all the encoded characteristics, while the output is whether or not the income is greater than 50k or not for a person (binary)."
   ]
  },
  {
   "cell_type": "markdown",
   "metadata": {},
   "source": [
    "## Importing Data\n",
    "First we import CSV data as pandas and divide to test and training set."
   ]
  },
  {
   "cell_type": "code",
   "execution_count": 70,
   "metadata": {},
   "outputs": [],
   "source": [
    "import re\n",
    "import matplotlib\n",
    "import numpy as np\n",
    "import matplotlib.pyplot as plt\n",
    "import pandas as pd\n",
    "import seaborn as sns\n",
    "from sklearn.model_selection import train_test_split\n",
    "from sklearn.linear_model import LogisticRegression\n",
    "from sklearn import metrics\n",
    "\n",
    "# Import Dataset\n",
    "filename = \"adult_encoded.csv\"\n",
    "df = pd.read_csv(filename, sep='\\s*,\\s*',engine = 'python')\n",
    "df = df.loc[:,df.columns != 'Unnamed: 0']\n",
    "\n",
    "# Separate each dataset into training, testing, and query data\n",
    "total_rest,total_test = train_test_split(df, random_state=30, test_size=0.2, shuffle=True)\n",
    "total_train,queries = train_test_split(total_rest,random_state = 30, test_size = 0.4, shuffle = True)\n",
    "\n",
    "# Separate each sub dataset to input and output\n",
    "total_train_data = total_train.loc[:,total_train.columns != 'income_over_50k']\n",
    "total_train_label = total_train.loc[:,total_train.columns =='income_over_50k']\n",
    "total_test_data = total_train.loc[:,total_test.columns != 'income_over_50k']\n",
    "total_test_label = total_train.loc[:,total_test.columns =='income_over_50k']\n",
    "query_data = queries.loc[:,queries.columns !='income_over_50k']\n",
    "query_label = queries.loc[:,queries.columns =='income_over_50k']"
   ]
  },
  {
   "cell_type": "markdown",
   "metadata": {},
   "source": [
    "## Build and Run Logistic Binary Classifier\n",
    "We use pandas to build dataframes and SKlearn's logistic regression based on string based classes"
   ]
  },
  {
   "cell_type": "code",
   "execution_count": 71,
   "metadata": {},
   "outputs": [
    {
     "name": "stdout",
     "output_type": "stream",
     "text": [
      "Accuracy of logistic regression classifier on test set: 0.85\n"
     ]
    },
    {
     "name": "stderr",
     "output_type": "stream",
     "text": [
      "/home/tkim/anaconda3/lib/python3.7/site-packages/sklearn/utils/validation.py:724: DataConversionWarning: A column-vector y was passed when a 1d array was expected. Please change the shape of y to (n_samples, ), for example using ravel().\n",
      "  y = column_or_1d(y, warn=True)\n"
     ]
    }
   ],
   "source": [
    "# Run Logistic Regression\n",
    "logreg = LogisticRegression(solver=\"liblinear\")\n",
    "logreg.fit(total_train_data,total_train_label)\n",
    "\n",
    "# Predict Test Result and calculate Accuracy\n",
    "y_pred = logreg.predict(total_train_data)\n",
    "print('Accuracy of logistic regression classifier on test set: {:.2f}'.format(logreg.score(total_test_data, total_test_label)))"
   ]
  },
  {
   "cell_type": "markdown",
   "metadata": {},
   "source": [
    "## Obtain Parameter Vector\n",
    "Here we obtain what the parameter vector is so we can solve for it later on."
   ]
  },
  {
   "cell_type": "code",
   "execution_count": 72,
   "metadata": {},
   "outputs": [
    {
     "data": {
      "text/plain": [
       "(1, 39)"
      ]
     },
     "execution_count": 72,
     "metadata": {},
     "output_type": "execute_result"
    }
   ],
   "source": [
    "logreg.coef_.shape"
   ]
  },
  {
   "cell_type": "markdown",
   "metadata": {},
   "source": [
    "## Linear System of Equation Solving Attack\n",
    "\n",
    "Next, we attack the binary logistic classifier we built by inputting d+1 predictions. \"d\" is the number of values in the weight vectors. It is important that we obtain confidence values rather than just binary classifications to make this possible\n",
    "\n",
    "The number of linearly independent equations we need are 40. It will be a challenging and annoying task to ensure that every single equation we use is linearly independent.\n",
    "\n",
    "We can simply take 40 values from the training data set."
   ]
  },
  {
   "cell_type": "code",
   "execution_count": 73,
   "metadata": {},
   "outputs": [],
   "source": [
    "# Function - calculate sigmoid inverse given output to sigmoid function, can take 2D vector inputs\n",
    "def get_sigmoid_inv(out_val):\n",
    "    idx = 0\n",
    "    for i in out_val:\n",
    "        if i == 1:\n",
    "            out_val[idx] = 0.999999999999999\n",
    "        idx += 1\n",
    "    in_val = -1*np.log(np.divide(1,out_val) - 1)\n",
    "    return in_val"
   ]
  },
  {
   "cell_type": "code",
   "execution_count": 84,
   "metadata": {},
   "outputs": [
    {
     "name": "stderr",
     "output_type": "stream",
     "text": [
      "/home/tkim/anaconda3/lib/python3.7/site-packages/ipykernel_launcher.py:15: FutureWarning: `rcond` parameter will change to the default of machine precision times ``max(M, N)`` where M and N are the input matrix dimensions.\n",
      "To use the future default and silence this warning we advise to pass `rcond=None`, to keep using the old, explicitly pass `rcond=-1`.\n",
      "  from ipykernel import kernelapp as app\n"
     ]
    },
    {
     "data": {
      "text/plain": [
       "array([-7.19385724e+00,  2.35303938e-02,  2.78343039e-01,  3.26189952e-04,\n",
       "        6.59724190e-04,  2.53777187e-02, -3.68625872e-01, -7.76185172e-02,\n",
       "       -1.85525491e-01, -7.35874694e-02,  2.00969977e-01, -4.80927000e-01,\n",
       "        6.82047527e-02, -6.05873418e-01,  1.65156119e+00, -3.85432696e-01,\n",
       "       -9.87628074e-01, -7.76185172e-02, -5.12118109e-01,  1.57678856e-01,\n",
       "       -3.68625872e-01,  1.30365223e-01,  5.26725034e-02,  8.10699790e-01,\n",
       "       -9.78605477e-01, -7.10185901e-01, -3.03221222e-01, -8.15155240e-01,\n",
       "       -4.57793130e-02,  5.08309619e-01,  6.82047527e-02,  2.59356624e-01,\n",
       "        5.68659616e-01, -9.38047222e-02, -2.91817460e-01,  0.00000000e+00,\n",
       "       -4.13235507e-01,  1.04943815e-01, -3.17000468e-01,  1.40352244e-01])"
      ]
     },
     "execution_count": 84,
     "metadata": {},
     "output_type": "execute_result"
    }
   ],
   "source": [
    "# Get a appropriate number of samples from database to attack with\n",
    "num_queries = logreg.coef_.size + 10\n",
    "attack_sample = query_data.sample(num_queries)\n",
    "\n",
    "# Divide data and labels\n",
    "sample_x = attack_sample.loc[:,attack_sample.columns != 'income_over_50k']\n",
    "sample_y = attack_sample.loc[:,attack_sample.columns =='income_over_50k']\n",
    "\n",
    "# Obtain P(y = 1) vals for entire array - the confidence intervals for iris setosa (0) vs iris versicolor (1)\n",
    "conf = logreg.predict_proba(sample_x)[:,1]\n",
    "xw_s = get_sigmoid_inv(conf)\n",
    "bias = np.ones((num_queries,1))\n",
    "x_testvals = np.concatenate((bias, sample_x.values),1)\n",
    "\n",
    "w_approx = np.linalg.lstsq(x_testvals,xw_s)\n",
    "w_approx[0]"
   ]
  },
  {
   "cell_type": "code",
   "execution_count": 76,
   "metadata": {},
   "outputs": [
    {
     "data": {
      "text/plain": [
       "array([-4.92799638e+00,  2.35303938e-02,  2.78343039e-01,  3.26189952e-04,\n",
       "        6.59724190e-04,  2.53777187e-02, -8.46799222e-01, -2.15667320e-01,\n",
       "       -7.74684418e-01, -6.62746396e-01, -3.88188950e-01, -1.07008593e+00,\n",
       "       -9.69824143e-01, -1.19916952e+00,  1.05826509e+00, -9.78728801e-01,\n",
       "       -1.58092418e+00, -1.12202475e+00, -1.10541421e+00,  1.57678856e-01,\n",
       "       -7.90237960e-01, -1.80261287e-01, -2.57954007e-01,  5.00073279e-01,\n",
       "       -1.28923199e+00, -1.02081241e+00, -6.13847733e-01, -1.12578175e+00,\n",
       "       -3.56405823e-01,  1.97683109e-01,  2.06448210e-01, -5.12698864e-02,\n",
       "        2.58033106e-01, -4.04431233e-01, -1.06459678e+00, -9.19769478e-01,\n",
       "       -1.18601483e+00, -6.67835504e-01, -1.08977979e+00,  1.40352244e-01])"
      ]
     },
     "execution_count": 76,
     "metadata": {},
     "output_type": "execute_result"
    }
   ],
   "source": [
    "real_weights = np.append(logreg.intercept_,logreg.coef_)\n",
    "real_weights"
   ]
  },
  {
   "cell_type": "markdown",
   "metadata": {},
   "source": [
    "## Performance of Equation Solving Attack vs. Number of Queries\n",
    "\n",
    "Show the performance of stolen classifier done by equation solving attacks. We take L2 norm of the parameters, as well as the prediction correctness rate of the stolen classifier."
   ]
  },
  {
   "cell_type": "code",
   "execution_count": 114,
   "metadata": {},
   "outputs": [],
   "source": [
    "query_num = np.arange(5,logreg.coef_.size + 100,2)\n",
    "accs = np.zeros(query_num.size)\n",
    "accs_idx = 0\n",
    "og_acc = np.zeros(query_num.size)\n",
    "\n",
    "for num in query_num:\n",
    "    # take subset of query data and extract parameter vector based on LSQ minimizer\n",
    "    attack_sample = query_data.sample(num)    \n",
    "    sample_x = attack_sample.loc[:,attack_sample.columns != 'income_over_50k']\n",
    "    conf = logreg.predict_proba(sample_x)[:,1]\n",
    "    xw_s = get_sigmoid_inv(conf)\n",
    "    bias = np.ones((num,1))\n",
    "    x_testvals = np.concatenate((bias, sample_x.values),1)\n",
    "\n",
    "    w_approx = np.linalg.lstsq(x_testvals,xw_s,rcond = None)\n",
    "    w_approx = w_approx[0]\n",
    "    \n",
    "    # Take extracted parameter vector and test\n",
    "    test_bias = np.ones((total_test_data.shape[0],1))\n",
    "    test_data = np.concatenate((test_bias,total_test_data.values),1)\n",
    "    pred_output = np.sign(np.matmul(test_data,w_approx))\n",
    "    \n",
    "    # Get accuracy of stolen\n",
    "    real_label = total_test_label.values * 2 - 1\n",
    "    accs[accs_idx] = 1- np.mean( real_label.T != pred_output)\n",
    "    # Get accuracy of original non-stolen\n",
    "    y_pred = logreg.predict(total_train_data)\n",
    "    og_acc[accs_idx] = logreg.score(total_test_data, total_test_label)\n",
    "    \n",
    "    accs_idx += 1\n",
    "    "
   ]
  },
  {
   "cell_type": "code",
   "execution_count": 123,
   "metadata": {},
   "outputs": [
    {
     "data": {
      "text/plain": [
       "<matplotlib.legend.Legend at 0x7f615f928c50>"
      ]
     },
     "execution_count": 123,
     "metadata": {},
     "output_type": "execute_result"
    },
    {
     "data": {
      "image/png": "[encoded data removed]",
      "text/plain": [
       "<Figure size 432x288 with 1 Axes>"
      ]
     },
     "metadata": {
      "needs_background": "light"
     },
     "output_type": "display_data"
    }
   ],
   "source": [
    "# Plot the accuracy\n",
    "plt.plot(query_num,accs,label = \"Stolen Classifier\")\n",
    "plt.plot(query_num,og_acc, label = \"Original Classifier\")\n",
    "plt.title(\"Stolen Classifier Accuracy with Queries and Equation Solve Attack\")\n",
    "plt.xlabel(\"Number of Queries\")\n",
    "plt.ylabel(\"Accuracy Proportion\")\n",
    "plt.gca().legend(('Stolen Classifier','Original Classifier'))"
   ]
  },
  {
   "cell_type": "code",
   "execution_count": null,
   "metadata": {},
   "outputs": [],
   "source": []
  }
 ],
 "metadata": {
  "kernelspec": {
   "display_name": "Python 3",
   "language": "python",
   "name": "python3"
  },
  "language_info": {
   "codemirror_mode": {
    "name": "ipython",
    "version": 3
   },
   "file_extension": ".py",
   "mimetype": "text/x-python",
   "name": "python",
   "nbconvert_exporter": "python",
   "pygments_lexer": "ipython3",
   "version": "3.7.3"
  }
 },
 "nbformat": 4,
 "nbformat_minor": 2
}
