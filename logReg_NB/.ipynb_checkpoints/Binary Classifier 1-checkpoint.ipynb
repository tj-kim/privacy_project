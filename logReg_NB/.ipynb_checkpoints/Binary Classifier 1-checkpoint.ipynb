{
 "cells": [
  {
   "cell_type": "markdown",
   "metadata": {},
   "source": [
    "# Week 1: Binary Logistic Regression Classifier Build From Iris Data\n",
    "September 28 2019\n",
    "\n",
    "Goal: Build a binary logistic classifier from the iris.csv data using sklearn.\n",
    "Stretch Goal: Build a tri-class classifier"
   ]
  },
  {
   "cell_type": "markdown",
   "metadata": {},
   "source": [
    "## Running Binary Classifier\n",
    "\n",
    "Here we import the iris.csv dataset"
   ]
  },
  {
   "cell_type": "code",
   "execution_count": 7,
   "metadata": {},
   "outputs": [],
   "source": [
    "import re\n",
    "import matplotlib\n",
    "import numpy as np\n",
    "import matplotlib.pyplot as plt\n",
    "import pandas as pd\n",
    "import seaborn as sns\n",
    "from sklearn.model_selection import train_test_split\n",
    "\n",
    "# Import Dataset\n",
    "filename = \"iris.csv\"\n",
    "df = pd.read_csv(filename, sep='\\s*,\\s*',engine = 'python')\n",
    "\n",
    "# Separate Dataset into each\n",
    "setosa_set = df[df[\"class\"]==\"Iris-setosa\"]\n",
    "versicolor_set = df[df[\"class\"]==\"Iris-versicolor\"]\n",
    "virginica_set = df[df[\"class\"]==\"Iris-virginica\"]\n",
    "\n",
    "# Separate each dataset into training and testing data\n",
    "total_train,total_test = train_test_split(df, random_state=42, test_size=0.3, shuffle=True)\n",
    "setosa_train, setosa_test = train_test_split(setosa_set, random_state=42, test_size=0.3, shuffle=True)\n",
    "versicolor_train, versicolor_test = train_test_split(versicolor_set, random_state=42, test_size=0.3, shuffle=True)\n",
    "virginica_train, virginica_test = train_test_split(virginica_set, random_state=42, test_size=0.3, shuffle=True)"
   ]
  },
  {
   "cell_type": "markdown",
   "metadata": {},
   "source": [
    "## Run Logistic Fitting On Iris Data\n",
    "We use pandas to build dataframes and SKlearn's logistic regression based on string based classes"
   ]
  },
  {
   "cell_type": "code",
   "execution_count": 32,
   "metadata": {},
   "outputs": [
    {
     "name": "stdout",
     "output_type": "stream",
     "text": [
      "Accuracy of logistic regression classifier on test set: 1.00\n"
     ]
    },
    {
     "name": "stderr",
     "output_type": "stream",
     "text": [
      "/home/tkim/anaconda3/lib/python3.7/site-packages/sklearn/linear_model/logistic.py:432: FutureWarning: Default solver will be changed to 'lbfgs' in 0.22. Specify a solver to silence this warning.\n",
      "  FutureWarning)\n"
     ]
    }
   ],
   "source": [
    "# Logistic Model Fitting\n",
    "from sklearn.linear_model import LogisticRegression\n",
    "from sklearn import metrics\n",
    "\n",
    "# Split training/test data to input and output\n",
    "cols = ['sepal length','sepal width', 'petal length', 'petal width']\n",
    "y_val = 'class'\n",
    "# Train Data\n",
    "x_setosa_train = setosa_train[cols]\n",
    "y_setosa_train = setosa_train[y_val]\n",
    "x_versicolor_train = versicolor_train[cols]\n",
    "y_versicolor_train = versicolor_train[y_val]\n",
    "\n",
    "\"\"\"Running Simulation for 2 class case\"\"\"\n",
    "\n",
    "x_train = x_setosa_train.append(x_versicolor_train)\n",
    "y_train = y_setosa_train.append(y_versicolor_train)\n",
    "\n",
    "x_test = setosa_test[cols].append(versicolor_test[cols])\n",
    "y_test = setosa_test[y_val].append(versicolor_test[y_val])\n",
    "\n",
    "\"\"\"Running Simulations for the 3 class case\"\"\"\n",
    "#x_train = total_train[cols]\n",
    "#y_train = total_train[y_val]\n",
    "\n",
    "#x_test = total_test[cols]\n",
    "#y_test = total_test[y_val]\n",
    "\n",
    "# Run Logistic Regression\n",
    "logreg = LogisticRegression()\n",
    "logreg.fit(x_train,y_train)\n",
    "\n",
    "# Predict Test Result and calculate Accuracy\n",
    "y_pred = logreg.predict(x_test)\n",
    "print('Accuracy of logistic regression classifier on test set: {:.2f}'.format(logreg.score(x_test, y_test)))"
   ]
  },
  {
   "cell_type": "markdown",
   "metadata": {},
   "source": [
    "## Obtain Parameter Vector\n",
    "Here we obtain what the parameter vector is so we can solve for it later on."
   ]
  },
  {
   "cell_type": "code",
   "execution_count": 33,
   "metadata": {},
   "outputs": [
    {
     "data": {
      "text/plain": [
       "array([[-0.38897155, -1.31781989,  2.06492322,  0.90383684]])"
      ]
     },
     "execution_count": 33,
     "metadata": {},
     "output_type": "execute_result"
    }
   ],
   "source": [
    "logreg.coef_"
   ]
  },
  {
   "cell_type": "markdown",
   "metadata": {},
   "source": [
    "## Linear System of Equation Solving Attack\n",
    "\n",
    "Next, we attack the binary logistic classifier we built by inputting d+1 predictions. \"d\" is the number of values in the weight vectors. It is important that we obtain confidence values rather than just binary classifications to make this possible"
   ]
  },
  {
   "cell_type": "code",
   "execution_count": 71,
   "metadata": {},
   "outputs": [],
   "source": [
    "# Generate query data for d+1 (5) inputs\n",
    "sepal_lengths = np.random.rand(4) * 5\n",
    "sepal_widths = np.random.rand(4) * 4\n",
    "petal_lengths = np.random.rand(4) * 7\n",
    "petal_widths = np.random.rand(4) * 2.5\n",
    "\n",
    "# Generate Pandas Dataframe and use model to predict output\n",
    "d = {'sepal length': sepal_lengths, 'sepal width': sepal_widths,'petal length':petal_lengths,'petal width':petal_widths}\n",
    "x_test1 = pd.DataFrame(data=d)\n",
    "y_test1 = logreg.predict(x_test1)"
   ]
  },
  {
   "cell_type": "code",
   "execution_count": 72,
   "metadata": {},
   "outputs": [],
   "source": [
    "# Function - calculate sigmoid inverse given output to sigmoid function, can take 2D vector inputs\n",
    "def get_sigmoid_inv(out_val):\n",
    "    in_val = -1*np.log(np.divide(1,out_val) - 1)\n",
    "    return in_val"
   ]
  },
  {
   "cell_type": "code",
   "execution_count": 73,
   "metadata": {},
   "outputs": [],
   "source": [
    "# Obtain P(y = 1) vals for entire array - the confidence intervals for iris setosa (0) vs iris versicolor (1)\n",
    "conf = logreg.predict_proba(x_test1)[:,1]\n",
    "xw_s = get_sigmoid_inv(conf)"
   ]
  },
  {
   "cell_type": "code",
   "execution_count": 64,
   "metadata": {},
   "outputs": [
    {
     "data": {
      "text/plain": [
       "(4,)"
      ]
     },
     "execution_count": 64,
     "metadata": {},
     "output_type": "execute_result"
    }
   ],
   "source": [
    "xw_s.shape"
   ]
  },
  {
   "cell_type": "code",
   "execution_count": 74,
   "metadata": {},
   "outputs": [
    {
     "data": {
      "text/plain": [
       "array([[3.4006041 , 4.38331363, 2.63599144, 2.34921513],\n",
       "       [3.54811228, 1.33020942, 2.24318358, 1.11152774],\n",
       "       [3.4019454 , 6.30396969, 4.59335646, 4.24440991],\n",
       "       [0.98699137, 1.466027  , 0.11410768, 1.6513281 ]])"
      ]
     },
     "execution_count": 74,
     "metadata": {},
     "output_type": "execute_result"
    }
   ],
   "source": [
    "np.transpose(x_test1.values)"
   ]
  },
  {
   "cell_type": "code",
   "execution_count": 75,
   "metadata": {},
   "outputs": [
    {
     "data": {
      "text/plain": [
       "array([-0.32951633, -1.37499781,  2.00832906,  0.85998906])"
      ]
     },
     "execution_count": 75,
     "metadata": {},
     "output_type": "execute_result"
    }
   ],
   "source": [
    "w_approx = np.linalg.solve(x_test1.values,xw_s)\n",
    "w_approx"
   ]
  },
  {
   "cell_type": "code",
   "execution_count": null,
   "metadata": {},
   "outputs": [],
   "source": []
  }
 ],
 "metadata": {
  "kernelspec": {
   "display_name": "Python 3",
   "language": "python",
   "name": "python3"
  },
  "language_info": {
   "codemirror_mode": {
    "name": "ipython",
    "version": 3
   },
   "file_extension": ".py",
   "mimetype": "text/x-python",
   "name": "python",
   "nbconvert_exporter": "python",
   "pygments_lexer": "ipython3",
   "version": "3.7.3"
  }
 },
 "nbformat": 4,
 "nbformat_minor": 2
}
