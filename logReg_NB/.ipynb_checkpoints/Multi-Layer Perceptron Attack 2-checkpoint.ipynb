{
 "cells": [
  {
   "cell_type": "markdown",
   "metadata": {},
   "source": [
    "# Multi-Layer Perceptron Attack\n",
    "TJ Kim, 12 Nov 2019\n",
    "\n",
    "We build a multi-layer perceptron model to classify adult.csv data. Then we perform an equation solving attack. Then, a uniform query attack will be performed, as well as an adaptive retraining attack."
   ]
  },
  {
   "cell_type": "markdown",
   "metadata": {},
   "source": [
    "## Importing Data\n",
    "First we import CSV data as pandas and divide to test and training set."
   ]
  },
  {
   "cell_type": "code",
   "execution_count": 1,
   "metadata": {},
   "outputs": [],
   "source": [
    "import re\n",
    "import matplotlib\n",
    "import numpy as np\n",
    "import matplotlib.pyplot as plt\n",
    "import pandas as pd\n",
    "import seaborn as sns\n",
    "from sklearn.model_selection import train_test_split\n",
    "from sklearn.linear_model import LogisticRegression\n",
    "from sklearn import metrics\n",
    "\n",
    "# Import Dataset\n",
    "filename = \"iris.csv\"\n",
    "df = pd.read_csv(filename, sep='\\s*,\\s*',engine = 'python')\n",
    "df = df.append([df]*5,ignore_index=True)\n",
    "\n",
    "# Split training/test data to input and output\n",
    "cols = ['sepal length','sepal width', 'petal length', 'petal width']\n",
    "y_val = 'class'\n",
    "\n",
    "# Separate each dataset into training, testing, and query data\n",
    "total_rest,total_test = train_test_split(df, test_size=0.4, shuffle=True)\n",
    "total_train,queries = train_test_split(total_rest, test_size = 0.5, shuffle = True)\n",
    "\n",
    "# Separate each sub dataset to input and output\n",
    "total_train_data = total_train.loc[:,total_train.columns != y_val]\n",
    "total_train_label = total_train.loc[:,total_train.columns == y_val]\n",
    "total_test_data = total_train.loc[:,total_test.columns != y_val]\n",
    "total_test_label = total_train.loc[:,total_test.columns == y_val]\n",
    "query_data = queries.loc[:,queries.columns != y_val]\n",
    "query_label = queries.loc[:,queries.columns == y_val]\n",
    "\n",
    "# One Hot Encode Output Data\n",
    "total_train_label = pd.get_dummies(total_train_label,prefix=['class'])\n",
    "total_test_label = pd.get_dummies(total_test_label,prefix=['class'])\n",
    "query_label = pd.get_dummies(query_label,prefix=['class'])"
   ]
  },
  {
   "cell_type": "markdown",
   "metadata": {},
   "source": [
    "## Build Run MultiLayer Perceptron\n",
    "To have easy access to the weight vectors associated with every layer, we will use pytorch.\n",
    "Our perceptron will have an input layer, a dense layer, and ELU layer, another dense layer, and a loss layer."
   ]
  },
  {
   "cell_type": "code",
   "execution_count": 2,
   "metadata": {},
   "outputs": [],
   "source": [
    "import torch\n",
    "import torch.nn as nn\n",
    "import math\n",
    "\n",
    "axes_max = total_train_data.values.max(axis=0)\n",
    "\n",
    "X = torch.from_numpy(total_train_data.values/axes_max).float()\n",
    "y = torch.from_numpy(total_train_label.values).float()"
   ]
  },
  {
   "cell_type": "code",
   "execution_count": 3,
   "metadata": {},
   "outputs": [],
   "source": [
    "class Neural_Network(nn.Module):\n",
    "    def __init__(self, ):\n",
    "        super(Neural_Network, self).__init__()\n",
    "        # parameters\n",
    "        # TODO: parameters can be parameterized instead of declaring them here\n",
    "        self.inputSize = 4\n",
    "        self.outputSize = 3\n",
    "        self.hiddenSize = 5\n",
    "        \n",
    "        # weights\n",
    "        mu1, sigma1 = 0, math.sqrt(2.0/(self.inputSize+self.hiddenSize))\n",
    "        mu2, sigma2 = 0,math.sqrt(2.0/(self.outputSize+self.hiddenSize))\n",
    "        \n",
    "        self.W1 = torch.from_numpy(np.random.normal(mu1,sigma1,[self.inputSize,self.hiddenSize])).float()\n",
    "        self.W2 = torch.from_numpy(np.random.normal(mu2,sigma2,[self.hiddenSize,self.outputSize])).float()\n",
    "        \n",
    "    def forward(self, X):\n",
    "        alpha = 0.9\n",
    "        self.z1 = torch.matmul(X, self.W1) # 3 X 3 \".dot\" does not broadcast in PyTorch\n",
    "        #self.z2 = self.ELU(self.z1,alpha) # activation function\n",
    "        self.z3 = torch.matmul(self.z1, self.W2)\n",
    "        o = self.sigmoid(self.z3) # final activation function\n",
    "        return o\n",
    "        \n",
    "    def sigmoid(self, s):\n",
    "        return 1 / (1 + torch.exp(-s))\n",
    "    \n",
    "    def sigmoidPrime(self, s):\n",
    "        # derivative of sigmoid\n",
    "        return s * (1 - s)\n",
    "    \n",
    "    def ELU(self,s,alpha):\n",
    "        temp_out = s.clone()\n",
    "        \n",
    "        temp_out[temp_out<=0] = alpha*(np.exp(temp_out[temp_out<=0]-1))\n",
    "        \n",
    "        return temp_out\n",
    "    \n",
    "    def ELUPrime(self,s,alpha):\n",
    "\n",
    "        temp_out2 = torch.from_numpy(np.ones(s.shape)).float()\n",
    "        temp_out2[s<=0] = alpha * torch.exp(s[s<=0])\n",
    "\n",
    "        return temp_out2\n",
    "        \n",
    "    def backward(self, X, y, o):\n",
    "        lr_rate = 0.01\n",
    "        alpha = 0.9\n",
    "        self.o_error = y - o # error in output\n",
    "        self.o_delta = self.o_error * self.sigmoidPrime(o) # derivative of sig to error\n",
    "        self.z2_error = torch.matmul(self.o_delta, torch.t(self.W2))\n",
    "        #self.z2_delta = self.z2_error * self.ELUPrime(self.z2,alpha)\n",
    "        self.W1 += lr_rate * torch.matmul(torch.t(X), self.z2_error)\n",
    "        self.W2 += lr_rate * torch.matmul(torch.t(self.z1), self.o_delta)\n",
    "        \n",
    "    def train(self, X, y):\n",
    "        # forward + backward pass for training\n",
    "        o = self.forward(X)\n",
    "        self.backward(X, y, o)\n",
    "        \n",
    "    def saveWeights(self, model):\n",
    "        # we will use the PyTorch internal storage functions\n",
    "        torch.save(model, \"NN\")\n",
    "        # you can reload model with all the weights and so forth with:\n",
    "        # torch.load(\"NN\")\n",
    "        \n",
    "    def predict(self, X_query, mute):\n",
    "        \n",
    "        if mute is False:\n",
    "            #print (\"Predicted data based on trained weights: \")\n",
    "            print (\"Input: \\n\" + str(X_query))\n",
    "            print (\"Confidence: \\n\" + str(self.forward(X_query).numpy()))\n",
    "        \n",
    "        conf = self.forward(X_query).numpy()\n",
    "        prediction = np.zeros(conf.shape)\n",
    "        if conf.ndim == 1:\n",
    "            b = np.argmax(conf)\n",
    "            prediction[b] = 1\n",
    "        else:\n",
    "            for i in range(conf.shape[0]):\n",
    "                b = np.argmax(conf[i,:])\n",
    "                prediction[i,b] = 1\n",
    "\n",
    "        return prediction, conf\n",
    "        "
   ]
  },
  {
   "cell_type": "markdown",
   "metadata": {},
   "source": [
    "Build instance of model we just built."
   ]
  },
  {
   "cell_type": "code",
   "execution_count": 4,
   "metadata": {},
   "outputs": [
    {
     "name": "stdout",
     "output_type": "stream",
     "text": [
      "true: \n",
      " tensor([0., 0., 1.])\n",
      "Input: \n",
      "tensor([0.7975, 0.6905, 0.8116, 0.7200])\n",
      "Confidence: \n",
      "[9.1737216e-05 3.9464080e-01 9.9502665e-01]\n"
     ]
    },
    {
     "name": "stderr",
     "output_type": "stream",
     "text": [
      "/home/tkim/miniconda3/lib/python3.7/site-packages/torch/serialization.py:256: UserWarning: Couldn't retrieve source code for container of type Neural_Network. It won't be checked for correctness upon loading.\n",
      "  \"type \" + obj.__name__ + \". It won't be checked \"\n"
     ]
    },
    {
     "data": {
      "text/plain": [
       "(array([0., 0., 1.]),\n",
       " array([9.1737216e-05, 3.9464080e-01, 9.9502665e-01], dtype=float32))"
      ]
     },
     "execution_count": 4,
     "metadata": {},
     "output_type": "execute_result"
    }
   ],
   "source": [
    "j = 3\n",
    "NN = Neural_Network()\n",
    "for i in range(1000):  # trains the NN 1,000 times\n",
    "    # print (\"#\" + str(i) + \" Loss: \" + str(torch.mean((y - NN(X))**2).detach().item()))  # mean sum squared loss\n",
    "    NN.train(X, y)\n",
    "NN.saveWeights(NN)\n",
    "print(\"true: \\n\",y[j])\n",
    "NN.predict(X[j,:],False)"
   ]
  },
  {
   "cell_type": "markdown",
   "metadata": {},
   "source": [
    "Test NN model on validation data."
   ]
  },
  {
   "cell_type": "code",
   "execution_count": 5,
   "metadata": {},
   "outputs": [
    {
     "data": {
      "text/plain": [
       "0.9814814814814815"
      ]
     },
     "execution_count": 5,
     "metadata": {},
     "output_type": "execute_result"
    }
   ],
   "source": [
    "from sklearn.metrics import accuracy_score\n",
    "\n",
    "X_test = torch.from_numpy(total_test_data.values/axes_max).float()\n",
    "y_test = torch.from_numpy(total_test_label.values).float()\n",
    "preds = np.zeros(X_test.shape[0])\n",
    "confs = np.zeros(X_test.shape[0])\n",
    "mute = True;\n",
    "\n",
    "\n",
    "preds, confs = NN.predict(X_test,mute)\n",
    "    \n",
    "acc = accuracy_score(total_test_label,preds)\n",
    "acc"
   ]
  },
  {
   "cell_type": "markdown",
   "metadata": {},
   "source": [
    "## Equation Solving Attack\n",
    "\n",
    "Assuming that we have knowledge of the network shape, as well as the activation functions, we are able to use returned confidence intervals to perform an equation solving attack by building a system of equations based on the dependencies of consecutive layers.\n",
    "\n",
    "After literature search, an equation solving attack with a linear solver seems impossible given the product of weights between different layers. A future effort may be made with a non-linear solver. Such a solver may converge to a local-minima however."
   ]
  },
  {
   "cell_type": "markdown",
   "metadata": {},
   "source": [
    "## Uniform Query Attack\n",
    "\n",
    "A uniform query is used to steal the neural network model. Here, we assume that we know the topology (number of layers and weights) in the network, but not the value of the weights."
   ]
  },
  {
   "cell_type": "code",
   "execution_count": 22,
   "metadata": {},
   "outputs": [
    {
     "name": "stderr",
     "output_type": "stream",
     "text": [
      "/home/tkim/miniconda3/lib/python3.7/site-packages/torch/serialization.py:256: UserWarning: Couldn't retrieve source code for container of type Neural_Network. It won't be checked for correctness upon loading.\n",
      "  \"type \" + obj.__name__ + \". It won't be checked \"\n"
     ]
    }
   ],
   "source": [
    "from sklearn.metrics import accuracy_score\n",
    "\n",
    "query_num = np.arange(1,query_data.shape[0],10)\n",
    "accs = np.zeros(query_num.size)\n",
    "og_acc = np.zeros(query_num.size)\n",
    "accs_idx = 0\n",
    "\n",
    "temp_samp = query_data.sample(n=0)\n",
    "\n",
    "\n",
    "for num in query_num:\n",
    "    # take subset of query data and obtain labels from real classifier\n",
    "    if num > 1:\n",
    "        num2 = num - query_num[accs_idx-1]\n",
    "    else:\n",
    "        num2 = num\n",
    "        \n",
    "    new_samp = query_data.sample(n=num2)\n",
    "    temp_samp = temp_samp.append(new_samp/axes_max)\n",
    "    samp = torch.from_numpy(temp_samp.values).float()\n",
    "    sweep_labels = NN.predict(samp,True)[0]\n",
    "    sweep_labels = torch.from_numpy(sweep_labels).float()\n",
    "    \n",
    "    # Sub-loop to run stochastic gradient descent multiple times\n",
    "    NN_uniform = Neural_Network()\n",
    "    \n",
    "    for i in range(100):  # trains the NN 1,000 times\n",
    "        NN_uniform.train(samp, sweep_labels)\n",
    "        NN_uniform.saveWeights(NN_uniform)\n",
    "    \n",
    "    # Build stolen classifier with output data\n",
    "    sweep_pred = NN_uniform.predict(torch.from_numpy(total_test_data.values/axes_max).float(),True)\n",
    "    accs[accs_idx] = accuracy_score(total_test_label,sweep_pred[0])\n",
    "    og_acc[accs_idx] = acc\n",
    "    \n",
    "    accs_idx += 1"
   ]
  },
  {
   "cell_type": "code",
   "execution_count": 23,
   "metadata": {},
   "outputs": [
    {
     "data": {
      "text/plain": [
       "<matplotlib.legend.Legend at 0x7f91142bc1d0>"
      ]
     },
     "execution_count": 23,
     "metadata": {},
     "output_type": "execute_result"
    },
    {
     "data": {
      "image/png": "[encoded data removed]",
      "text/plain": [
       "<Figure size 432x288 with 1 Axes>"
      ]
     },
     "metadata": {
      "needs_background": "light"
     },
     "output_type": "display_data"
    }
   ],
   "source": [
    "# Plot the accuracy\n",
    "plt.plot(query_num,accs)\n",
    "plt.plot(query_num,og_acc, label = \"Original Classifier\")\n",
    "plt.title(\"Stolen Classifier Accuracy with Uniform Queries Attack\")\n",
    "plt.xlabel(\"Number of Queries\")\n",
    "plt.ylabel(\"Accuracy Proportion\")\n",
    "plt.gca().legend(('Stolen Classifier','Original Classifier'))"
   ]
  },
  {
   "cell_type": "markdown",
   "metadata": {},
   "source": [
    "## Adaptive Training Attack\n",
    "\n",
    "Next we run an adaptive training attack where the stolen model thusfar is queried to find which points to query next."
   ]
  },
  {
   "cell_type": "code",
   "execution_count": 60,
   "metadata": {},
   "outputs": [
    {
     "data": {
      "text/plain": [
       "<matplotlib.legend.Legend at 0x7f9111e11a90>"
      ]
     },
     "execution_count": 60,
     "metadata": {},
     "output_type": "execute_result"
    },
    {
     "data": {
      "image/png": "[encoded data removed]",
      "text/plain": [
       "<Figure size 432x288 with 1 Axes>"
      ]
     },
     "metadata": {
      "needs_background": "light"
     },
     "output_type": "display_data"
    }
   ],
   "source": [
    "query_data2 = query_data.append([query_data]*5,ignore_index=True)\n",
    "query_num2 = np.arange(1,query_data.shape[0],10)\n",
    "accs2 = np.zeros(query_num.size)\n",
    "accs_idx = 0\n",
    "\n",
    "temp_samp = query_data.sample(n=0)\n",
    "\n",
    "for num in query_num:\n",
    "    # take subset of query data and obtain labels from real classifier\n",
    "    if num > 1: # Not first instance - we query our own NN and find good points to ask\n",
    "        num2 = num - query_num[accs_idx-1]\n",
    "        new_samp = query_data.sample(n=num2 * 5)\n",
    "        ns2 = torch.from_numpy(new_samp.values/axes_max).float()\n",
    "        \n",
    "        # Query own database and find least secure points\n",
    "        confs = NN_ad.predict(ns2,True)[1]\n",
    "        max_confs = np.amax(confs,axis=1)\n",
    "        idxs = max_confs.argsort()[:num2]\n",
    "        \n",
    "        np_samp_min = new_samp.iloc[idxs,:]\n",
    "        temp_samp = temp_samp.append(np_samp_min)\n",
    "        \n",
    "        samp = torch.from_numpy(temp_samp.values).float()\n",
    "        sweep_labels = NN.predict(samp,True)[0]\n",
    "        sweep_labels = torch.from_numpy(sweep_labels).float()\n",
    "\n",
    "        # Sub-loop to run stochastic gradient descent multiple times\n",
    "        NN_ad = Neural_Network()\n",
    "\n",
    "        for i in range(1000):  # trains the NN 1,000 times\n",
    "            NN_ad.train(samp, sweep_labels)\n",
    "            NN_ad.saveWeights(NN_ad)\n",
    "        \n",
    "    else: # First instance - we do same as uniform query\n",
    "        num2 = num\n",
    "        new_samp = query_data.sample(n=num2)\n",
    "        temp_samp = temp_samp.append(new_samp/axes_max)\n",
    "        samp = torch.from_numpy(temp_samp.values).float()\n",
    "        sweep_labels = NN.predict(samp,True)[0]\n",
    "        sweep_labels = torch.from_numpy(sweep_labels).float()\n",
    "\n",
    "        # Sub-loop to run stochastic gradient descent multiple times\n",
    "        NN_ad = Neural_Network()\n",
    "\n",
    "        for i in range(1000):  # trains the NN 1,000 times\n",
    "            NN_ad.train(samp, sweep_labels)\n",
    "            NN_ad.saveWeights(NN_ad)\n",
    "\n",
    "    # Build stolen classifier with output data\n",
    "    sweep_pred = NN_ad.predict(torch.from_numpy(total_test_data.values/axes_max).float(),True)\n",
    "    accs2[accs_idx] = accuracy_score(total_test_label,sweep_pred[0])\n",
    "        \n",
    "    accs_idx += 1\n",
    "    \n",
    "# Plot the accuracy\n",
    "plt.plot(query_num,accs2)\n",
    "plt.plot(query_num,og_acc, label = \"Original Classifier\")\n",
    "plt.title(\"Stolen Classifier Accuracy with Uniform Queries Attack\")\n",
    "plt.xlabel(\"Number of Queries\")\n",
    "plt.ylabel(\"Accuracy Proportion\")\n",
    "plt.gca().legend(('Stolen Classifier','Original Classifier'))"
   ]
  },
  {
   "cell_type": "code",
   "execution_count": null,
   "metadata": {},
   "outputs": [],
   "source": []
  }
 ],
 "metadata": {
  "kernelspec": {
   "display_name": "Python 3",
   "language": "python",
   "name": "python3"
  },
  "language_info": {
   "codemirror_mode": {
    "name": "ipython",
    "version": 3
   },
   "file_extension": ".py",
   "mimetype": "text/x-python",
   "name": "python",
   "nbconvert_exporter": "python",
   "pygments_lexer": "ipython3",
   "version": "3.7.4"
  }
 },
 "nbformat": 4,
 "nbformat_minor": 2
}
