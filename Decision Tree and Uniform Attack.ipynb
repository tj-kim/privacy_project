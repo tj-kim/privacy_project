{
 "cells": [
  {
   "cell_type": "markdown",
   "metadata": {},
   "source": [
    "# Decision Tree Attack and Uniform/Adaptive Extraction\n",
    "TJ Kim, 26 Oct 2019\n",
    "\n",
    "We build a decision tree classifier for the data in encoded_adult.csv. The inputs are all the encoded characteristics, while the output is whether or not the income is greater than 50k or not for a person (binary).\n",
    "\n",
    "We get the class labels only as outputs. Therefore, we do a uniform attack that queries the classifier and uses the output as combinations to make a new trainer. We also truncate the decision tree to rather work with probabilities, and do an adaptive attack."
   ]
  },
  {
   "cell_type": "markdown",
   "metadata": {},
   "source": [
    "## Importing Data\n",
    "First we import CSV data as pandas and divide to test and training set."
   ]
  },
  {
   "cell_type": "code",
   "execution_count": 1,
   "metadata": {},
   "outputs": [],
   "source": [
    "import re\n",
    "import matplotlib\n",
    "import numpy as np\n",
    "import matplotlib.pyplot as plt \n",
    "import pandas as pd\n",
    "import seaborn as sns\n",
    "from sklearn.model_selection import train_test_split\n",
    "from sklearn import metrics\n",
    "from sklearn import tree\n",
    "\n",
    "# Import Dataset\n",
    "filename = \"adult_encoded.csv\"\n",
    "df = pd.read_csv(filename, sep='\\s*,\\s*',engine = 'python')\n",
    "df = df.loc[:,df.columns != 'Unnamed: 0']\n",
    "\n",
    "# Separate each dataset into training, testing, and query data\n",
    "total_rest,total_test = train_test_split(df, random_state=30, test_size=0.2, shuffle=True)\n",
    "total_train,queries = train_test_split(total_rest,random_state = 30, test_size = 0.4, shuffle = True)\n",
    "\n",
    "# Separate each sub dataset to input and output\n",
    "total_train_data = total_train.loc[:,total_train.columns != 'income_over_50k']\n",
    "total_train_label = total_train.loc[:,total_train.columns =='income_over_50k']\n",
    "total_test_data = total_train.loc[:,total_test.columns != 'income_over_50k']\n",
    "total_test_label = total_train.loc[:,total_test.columns =='income_over_50k']\n",
    "query_data = queries.loc[:,queries.columns !='income_over_50k']\n",
    "query_label = queries.loc[:,queries.columns =='income_over_50k']"
   ]
  },
  {
   "cell_type": "markdown",
   "metadata": {},
   "source": [
    "## Build and Run Decision Tree\n",
    "\n",
    "We use the train data to build a decision tree (of any arbitrary depth at the moment) and use the test data to obtain the accuracy."
   ]
  },
  {
   "cell_type": "code",
   "execution_count": 2,
   "metadata": {},
   "outputs": [
    {
     "data": {
      "text/plain": [
       "0.9787143283709423"
      ]
     },
     "execution_count": 2,
     "metadata": {},
     "output_type": "execute_result"
    }
   ],
   "source": [
    "# Build and train Decision Tree Classifier\n",
    "model = tree.DecisionTreeClassifier()\n",
    "model.fit(total_train_data,total_train_label)\n",
    "\n",
    "# Prediction and Accuracy\n",
    "from sklearn.metrics import accuracy_score\n",
    "y_predict = model.predict(total_test_data)\n",
    "accuracy_score(total_test_label,y_predict)"
   ]
  },
  {
   "cell_type": "markdown",
   "metadata": {},
   "source": [
    "The accuracy for the decision tree is significantly better for the logistic regression model. The logistic regression model has approximately 85% accuracy, while the decision tree has 98%. Maybe this is because the dataset we are using has many categorical inputs, which decision trees handle better."
   ]
  },
  {
   "cell_type": "markdown",
   "metadata": {},
   "source": [
    "## Utilize Uniform Label Attack to Steal decision tree\n",
    "\n",
    "Here, we will attack the decision tree by querying the tree and using the output to train our own tree."
   ]
  },
  {
   "cell_type": "code",
   "execution_count": 3,
   "metadata": {},
   "outputs": [
    {
     "data": {
      "text/plain": [
       "0.8473318261314678"
      ]
     },
     "execution_count": 3,
     "metadata": {},
     "output_type": "execute_result"
    }
   ],
   "source": [
    "# Obtain query labels and then build own decision tree\n",
    "y_query = model.predict(query_data)\n",
    "model_stolen = tree.DecisionTreeClassifier()\n",
    "model_stolen.fit(query_data,y_query)\n",
    "\n",
    "# Prediction and Accuracy\n",
    "y_q_predict = model_stolen.predict(total_test_data)\n",
    "accuracy_score(total_test_label,y_q_predict)"
   ]
  },
  {
   "cell_type": "markdown",
   "metadata": {},
   "source": [
    "We observe that the accuracy significantly suffers as it falls from 98% to 85% with the uniform attack model. However, that is still very high considering that we attempt a very naive attack."
   ]
  },
  {
   "cell_type": "markdown",
   "metadata": {},
   "source": [
    "## Sweep number of queries against performance\n",
    "\n",
    "Next, we will sweep the number of queries to see how accuracy increases as we query more."
   ]
  },
  {
   "cell_type": "code",
   "execution_count": 4,
   "metadata": {},
   "outputs": [],
   "source": [
    "query_num1 = np.arange(5,100,2)\n",
    "query_num2 = np.arange(100,y_query.size,100)\n",
    "query_num = np.concatenate([query_num1, query_num2])\n",
    "accs = np.zeros(query_num.size)\n",
    "og_acc = np.zeros(query_num.size)\n",
    "accs_idx = 0\n",
    "\n",
    "for num in query_num:\n",
    "    # take subset of query data and obtain labels from real classifier\n",
    "    samp = query_data.sample(n=num)\n",
    "    sweep_labels = model.predict(samp)\n",
    "    # Build stolen classifier with output data\n",
    "    model_sweep = tree.DecisionTreeClassifier()\n",
    "    model_sweep.fit(samp,sweep_labels)\n",
    "    sweep_pred = model_sweep.predict(total_test_data)\n",
    "    accs[accs_idx] = accuracy_score(total_test_label,sweep_pred)\n",
    "    \n",
    "    y_pred = model.predict(total_train_data)\n",
    "    og_acc[accs_idx] = model.score(total_test_data, total_test_label)\n",
    "    \n",
    "    accs_idx += 1"
   ]
  },
  {
   "cell_type": "code",
   "execution_count": 5,
   "metadata": {},
   "outputs": [
    {
     "data": {
      "text/plain": [
       "<matplotlib.legend.Legend at 0x7ffb74c241d0>"
      ]
     },
     "execution_count": 5,
     "metadata": {},
     "output_type": "execute_result"
    },
    {
     "data": {
      "image/png": "[encoded data removed]",
      "text/plain": [
       "<Figure size 432x288 with 1 Axes>"
      ]
     },
     "metadata": {
      "needs_background": "light"
     },
     "output_type": "display_data"
    }
   ],
   "source": [
    "# Plot the accuracy\n",
    "plt.plot(query_num,accs)\n",
    "plt.plot(query_num,og_acc, label = \"Original Classifier\")\n",
    "plt.title(\"Stolen Decision Tree Accuracy with Queries\")\n",
    "plt.xlabel(\"Number of Queries\")\n",
    "plt.ylabel(\"Accuracy Proportion\")\n",
    "\n",
    "plt.gca().legend(('Stolen Classifier','Original Classifier'))"
   ]
  },
  {
   "cell_type": "markdown",
   "metadata": {},
   "source": [
    "## Truncating the Decision Tree and Attacking with Different Attacks\n",
    "\n",
    "Next step, we will truncate the build decision tree to deal with probabilities rather than binaries.\n",
    "\n",
    "First, we will analyze the existing decision tree."
   ]
  },
  {
   "cell_type": "code",
   "execution_count": 6,
   "metadata": {
    "scrolled": false
   },
   "outputs": [
    {
     "name": "stdout",
     "output_type": "stream",
     "text": [
      "Original model depth:  48\n",
      "Stolen model depth:  37\n"
     ]
    }
   ],
   "source": [
    "from sklearn.datasets import load_wine\n",
    "from IPython.display import SVG\n",
    "from graphviz import Source\n",
    "from IPython.display import display\n",
    "from sklearn.tree import export_graphviz\n",
    "\n",
    "print(\"Original model depth: \", model.get_depth())\n",
    "print(\"Stolen model depth: \", model_stolen.get_depth())"
   ]
  },
  {
   "cell_type": "markdown",
   "metadata": {},
   "source": [
    "We see that because of the lack of accuracy, we have less depth in our stolen model. This is probably also because we have less data points we trained our model on.\n",
    "\n",
    "The next step to take would be to truncate both models to 3 layers. \n",
    "\n",
    "First we make the truncated model with the original data with a pretty high accuracy score of 84%."
   ]
  },
  {
   "cell_type": "code",
   "execution_count": 7,
   "metadata": {},
   "outputs": [
    {
     "name": "stdout",
     "output_type": "stream",
     "text": [
      "Accuracy Score:  0.8451136799897624\n"
     ]
    }
   ],
   "source": [
    "# Build and train Decision Tree Classifier\n",
    "model_t = tree.DecisionTreeClassifier(max_depth = 3)\n",
    "model_t.fit(total_train_data,total_train_label)\n",
    "\n",
    "# Prediction and Accuracy\n",
    "y_predict = model_t.predict(total_test_data)\n",
    "y_probs = model_t.predict_proba(total_test_data)\n",
    "acc = accuracy_score(total_test_label,y_predict)\n",
    "\n",
    "print(\"Accuracy Score: \", acc)"
   ]
  },
  {
   "cell_type": "code",
   "execution_count": 8,
   "metadata": {},
   "outputs": [
    {
     "data": {
      "image/svg+xml": [
       "<svg height=\"433pt\" viewBox=\"0.00 0.00 1064.00 433.00\" width=\"1064pt\" xmlns=\"http://www.w3.org/2000/svg\" xmlns:xlink=\"http://www.w3.org/1999/xlink\">\n",
       "<g class=\"graph\" id=\"graph0\" transform=\"scale(1 1) rotate(0) translate(4 429)\">\n",
       "<title>Tree</title>\n",
       "<polygon fill=\"#ffffff\" points=\"-4,4 -4,-429 1060,-429 1060,4 -4,4\" stroke=\"transparent\"/>\n",
       "<!-- 0 -->\n",
       "<g class=\"node\" id=\"node1\">\n",
       "<title>0</title>\n",
       "<polygon fill=\"#eda877\" points=\"629,-425 392,-425 392,-342 629,-342 629,-425\" stroke=\"#000000\"/>\n",
       "<text fill=\"#000000\" font-family=\"Times,serif\" font-size=\"14.00\" text-anchor=\"middle\" x=\"510.5\" y=\"-409.8\">Martial_Cat_Married-civ-spouse &lt;= 0.5</text>\n",
       "<text fill=\"#000000\" font-family=\"Times,serif\" font-size=\"14.00\" text-anchor=\"middle\" x=\"510.5\" y=\"-394.8\">gini = 0.363</text>\n",
       "<text fill=\"#000000\" font-family=\"Times,serif\" font-size=\"14.00\" text-anchor=\"middle\" x=\"510.5\" y=\"-379.8\">samples = 23443</text>\n",
       "<text fill=\"#000000\" font-family=\"Times,serif\" font-size=\"14.00\" text-anchor=\"middle\" x=\"510.5\" y=\"-364.8\">value = [17858, 5585]</text>\n",
       "<text fill=\"#000000\" font-family=\"Times,serif\" font-size=\"14.00\" text-anchor=\"middle\" x=\"510.5\" y=\"-349.8\">class = &lt; $50k</text>\n",
       "</g>\n",
       "<!-- 1 -->\n",
       "<g class=\"node\" id=\"node2\">\n",
       "<title>1</title>\n",
       "<polygon fill=\"#e78a47\" points=\"469.5,-306 327.5,-306 327.5,-223 469.5,-223 469.5,-306\" stroke=\"#000000\"/>\n",
       "<text fill=\"#000000\" font-family=\"Times,serif\" font-size=\"14.00\" text-anchor=\"middle\" x=\"398.5\" y=\"-290.8\">capital-gain &lt;= 7055.5</text>\n",
       "<text fill=\"#000000\" font-family=\"Times,serif\" font-size=\"14.00\" text-anchor=\"middle\" x=\"398.5\" y=\"-275.8\">gini = 0.12</text>\n",
       "<text fill=\"#000000\" font-family=\"Times,serif\" font-size=\"14.00\" text-anchor=\"middle\" x=\"398.5\" y=\"-260.8\">samples = 12652</text>\n",
       "<text fill=\"#000000\" font-family=\"Times,serif\" font-size=\"14.00\" text-anchor=\"middle\" x=\"398.5\" y=\"-245.8\">value = [11841, 811]</text>\n",
       "<text fill=\"#000000\" font-family=\"Times,serif\" font-size=\"14.00\" text-anchor=\"middle\" x=\"398.5\" y=\"-230.8\">class = &lt; $50k</text>\n",
       "</g>\n",
       "<!-- 0&#45;&gt;1 -->\n",
       "<g class=\"edge\" id=\"edge1\">\n",
       "<title>0-&gt;1</title>\n",
       "<path d=\"M471.3278,-341.8796C462.7665,-332.7832 453.6268,-323.0722 444.8168,-313.7116\" fill=\"none\" stroke=\"#000000\"/>\n",
       "<polygon fill=\"#000000\" points=\"447.2417,-311.1813 437.8394,-306.2981 442.1443,-315.9789 447.2417,-311.1813\" stroke=\"#000000\"/>\n",
       "<text fill=\"#000000\" font-family=\"Times,serif\" font-size=\"14.00\" text-anchor=\"middle\" x=\"437.0821\" y=\"-327.5866\">True</text>\n",
       "</g>\n",
       "<!-- 8 -->\n",
       "<g class=\"node\" id=\"node9\">\n",
       "<title>8</title>\n",
       "<polygon fill=\"#fae5d6\" points=\"722.5,-306 576.5,-306 576.5,-223 722.5,-223 722.5,-306\" stroke=\"#000000\"/>\n",
       "<text fill=\"#000000\" font-family=\"Times,serif\" font-size=\"14.00\" text-anchor=\"middle\" x=\"649.5\" y=\"-290.8\">education-num &lt;= 11.5</text>\n",
       "<text fill=\"#000000\" font-family=\"Times,serif\" font-size=\"14.00\" text-anchor=\"middle\" x=\"649.5\" y=\"-275.8\">gini = 0.493</text>\n",
       "<text fill=\"#000000\" font-family=\"Times,serif\" font-size=\"14.00\" text-anchor=\"middle\" x=\"649.5\" y=\"-260.8\">samples = 10791</text>\n",
       "<text fill=\"#000000\" font-family=\"Times,serif\" font-size=\"14.00\" text-anchor=\"middle\" x=\"649.5\" y=\"-245.8\">value = [6017, 4774]</text>\n",
       "<text fill=\"#000000\" font-family=\"Times,serif\" font-size=\"14.00\" text-anchor=\"middle\" x=\"649.5\" y=\"-230.8\">class = &lt; $50k</text>\n",
       "</g>\n",
       "<!-- 0&#45;&gt;8 -->\n",
       "<g class=\"edge\" id=\"edge8\">\n",
       "<title>0-&gt;8</title>\n",
       "<path d=\"M559.1155,-341.8796C570.0562,-332.513 581.7582,-322.4948 592.9908,-312.8784\" fill=\"none\" stroke=\"#000000\"/>\n",
       "<polygon fill=\"#000000\" points=\"595.3568,-315.4603 600.677,-306.2981 590.8044,-310.1428 595.3568,-315.4603\" stroke=\"#000000\"/>\n",
       "<text fill=\"#000000\" font-family=\"Times,serif\" font-size=\"14.00\" text-anchor=\"middle\" x=\"598.7449\" y=\"-327.5233\">False</text>\n",
       "</g>\n",
       "<!-- 2 -->\n",
       "<g class=\"node\" id=\"node3\">\n",
       "<title>2</title>\n",
       "<polygon fill=\"#e68743\" points=\"278.5,-187 132.5,-187 132.5,-104 278.5,-104 278.5,-187\" stroke=\"#000000\"/>\n",
       "<text fill=\"#000000\" font-family=\"Times,serif\" font-size=\"14.00\" text-anchor=\"middle\" x=\"205.5\" y=\"-171.8\">education-num &lt;= 12.5</text>\n",
       "<text fill=\"#000000\" font-family=\"Times,serif\" font-size=\"14.00\" text-anchor=\"middle\" x=\"205.5\" y=\"-156.8\">gini = 0.09</text>\n",
       "<text fill=\"#000000\" font-family=\"Times,serif\" font-size=\"14.00\" text-anchor=\"middle\" x=\"205.5\" y=\"-141.8\">samples = 12421</text>\n",
       "<text fill=\"#000000\" font-family=\"Times,serif\" font-size=\"14.00\" text-anchor=\"middle\" x=\"205.5\" y=\"-126.8\">value = [11833, 588]</text>\n",
       "<text fill=\"#000000\" font-family=\"Times,serif\" font-size=\"14.00\" text-anchor=\"middle\" x=\"205.5\" y=\"-111.8\">class = &lt; $50k</text>\n",
       "</g>\n",
       "<!-- 1&#45;&gt;2 -->\n",
       "<g class=\"edge\" id=\"edge2\">\n",
       "<title>1-&gt;2</title>\n",
       "<path d=\"M330.998,-222.8796C315.1308,-213.0962 298.1106,-202.6019 281.8844,-192.5971\" fill=\"none\" stroke=\"#000000\"/>\n",
       "<polygon fill=\"#000000\" points=\"283.3129,-189.3661 272.9639,-187.0969 279.639,-195.3245 283.3129,-189.3661\" stroke=\"#000000\"/>\n",
       "</g>\n",
       "<!-- 5 -->\n",
       "<g class=\"node\" id=\"node6\">\n",
       "<title>5</title>\n",
       "<polygon fill=\"#40a1e6\" points=\"469.5,-187 327.5,-187 327.5,-104 469.5,-104 469.5,-187\" stroke=\"#000000\"/>\n",
       "<text fill=\"#000000\" font-family=\"Times,serif\" font-size=\"14.00\" text-anchor=\"middle\" x=\"398.5\" y=\"-171.8\">capital-gain &lt;= 8296.0</text>\n",
       "<text fill=\"#000000\" font-family=\"Times,serif\" font-size=\"14.00\" text-anchor=\"middle\" x=\"398.5\" y=\"-156.8\">gini = 0.067</text>\n",
       "<text fill=\"#000000\" font-family=\"Times,serif\" font-size=\"14.00\" text-anchor=\"middle\" x=\"398.5\" y=\"-141.8\">samples = 231</text>\n",
       "<text fill=\"#000000\" font-family=\"Times,serif\" font-size=\"14.00\" text-anchor=\"middle\" x=\"398.5\" y=\"-126.8\">value = [8, 223]</text>\n",
       "<text fill=\"#000000\" font-family=\"Times,serif\" font-size=\"14.00\" text-anchor=\"middle\" x=\"398.5\" y=\"-111.8\">class = &gt; $50k</text>\n",
       "</g>\n",
       "<!-- 1&#45;&gt;5 -->\n",
       "<g class=\"edge\" id=\"edge5\">\n",
       "<title>1-&gt;5</title>\n",
       "<path d=\"M398.5,-222.8796C398.5,-214.6838 398.5,-205.9891 398.5,-197.5013\" fill=\"none\" stroke=\"#000000\"/>\n",
       "<polygon fill=\"#000000\" points=\"402.0001,-197.298 398.5,-187.2981 395.0001,-197.2981 402.0001,-197.298\" stroke=\"#000000\"/>\n",
       "</g>\n",
       "<!-- 3 -->\n",
       "<g class=\"node\" id=\"node4\">\n",
       "<title>3</title>\n",
       "<polygon fill=\"#e6843e\" points=\"125,-68 0,-68 0,0 125,0 125,-68\" stroke=\"#000000\"/>\n",
       "<text fill=\"#000000\" font-family=\"Times,serif\" font-size=\"14.00\" text-anchor=\"middle\" x=\"62.5\" y=\"-52.8\">gini = 0.045</text>\n",
       "<text fill=\"#000000\" font-family=\"Times,serif\" font-size=\"14.00\" text-anchor=\"middle\" x=\"62.5\" y=\"-37.8\">samples = 9890</text>\n",
       "<text fill=\"#000000\" font-family=\"Times,serif\" font-size=\"14.00\" text-anchor=\"middle\" x=\"62.5\" y=\"-22.8\">value = [9662, 228]</text>\n",
       "<text fill=\"#000000\" font-family=\"Times,serif\" font-size=\"14.00\" text-anchor=\"middle\" x=\"62.5\" y=\"-7.8\">class = &lt; $50k</text>\n",
       "</g>\n",
       "<!-- 2&#45;&gt;3 -->\n",
       "<g class=\"edge\" id=\"edge3\">\n",
       "<title>2-&gt;3</title>\n",
       "<path d=\"M152.2521,-103.9815C139.8756,-94.3313 126.7172,-84.0714 114.3997,-74.4673\" fill=\"none\" stroke=\"#000000\"/>\n",
       "<polygon fill=\"#000000\" points=\"116.4818,-71.6525 106.4435,-68.2637 112.1775,-77.1728 116.4818,-71.6525\" stroke=\"#000000\"/>\n",
       "</g>\n",
       "<!-- 4 -->\n",
       "<g class=\"node\" id=\"node5\">\n",
       "<title>4</title>\n",
       "<polygon fill=\"#e9965a\" points=\"268,-68 143,-68 143,0 268,0 268,-68\" stroke=\"#000000\"/>\n",
       "<text fill=\"#000000\" font-family=\"Times,serif\" font-size=\"14.00\" text-anchor=\"middle\" x=\"205.5\" y=\"-52.8\">gini = 0.244</text>\n",
       "<text fill=\"#000000\" font-family=\"Times,serif\" font-size=\"14.00\" text-anchor=\"middle\" x=\"205.5\" y=\"-37.8\">samples = 2531</text>\n",
       "<text fill=\"#000000\" font-family=\"Times,serif\" font-size=\"14.00\" text-anchor=\"middle\" x=\"205.5\" y=\"-22.8\">value = [2171, 360]</text>\n",
       "<text fill=\"#000000\" font-family=\"Times,serif\" font-size=\"14.00\" text-anchor=\"middle\" x=\"205.5\" y=\"-7.8\">class = &lt; $50k</text>\n",
       "</g>\n",
       "<!-- 2&#45;&gt;4 -->\n",
       "<g class=\"edge\" id=\"edge4\">\n",
       "<title>2-&gt;4</title>\n",
       "<path d=\"M205.5,-103.9815C205.5,-95.618 205.5,-86.7965 205.5,-78.3409\" fill=\"none\" stroke=\"#000000\"/>\n",
       "<polygon fill=\"#000000\" points=\"209.0001,-78.2636 205.5,-68.2637 202.0001,-78.2637 209.0001,-78.2636\" stroke=\"#000000\"/>\n",
       "</g>\n",
       "<!-- 6 -->\n",
       "<g class=\"node\" id=\"node7\">\n",
       "<title>6</title>\n",
       "<polygon fill=\"#b0d8f5\" points=\"384.5,-68 286.5,-68 286.5,0 384.5,0 384.5,-68\" stroke=\"#000000\"/>\n",
       "<text fill=\"#000000\" font-family=\"Times,serif\" font-size=\"14.00\" text-anchor=\"middle\" x=\"335.5\" y=\"-52.8\">gini = 0.469</text>\n",
       "<text fill=\"#000000\" font-family=\"Times,serif\" font-size=\"14.00\" text-anchor=\"middle\" x=\"335.5\" y=\"-37.8\">samples = 16</text>\n",
       "<text fill=\"#000000\" font-family=\"Times,serif\" font-size=\"14.00\" text-anchor=\"middle\" x=\"335.5\" y=\"-22.8\">value = [6, 10]</text>\n",
       "<text fill=\"#000000\" font-family=\"Times,serif\" font-size=\"14.00\" text-anchor=\"middle\" x=\"335.5\" y=\"-7.8\">class = &gt; $50k</text>\n",
       "</g>\n",
       "<!-- 5&#45;&gt;6 -->\n",
       "<g class=\"edge\" id=\"edge6\">\n",
       "<title>5-&gt;6</title>\n",
       "<path d=\"M375.0411,-103.9815C370.1078,-95.2504 364.8926,-86.0202 359.9248,-77.2281\" fill=\"none\" stroke=\"#000000\"/>\n",
       "<polygon fill=\"#000000\" points=\"362.8263,-75.2483 354.8597,-68.2637 356.7319,-78.6918 362.8263,-75.2483\" stroke=\"#000000\"/>\n",
       "</g>\n",
       "<!-- 7 -->\n",
       "<g class=\"node\" id=\"node8\">\n",
       "<title>7</title>\n",
       "<polygon fill=\"#3b9ee5\" points=\"508,-68 403,-68 403,0 508,0 508,-68\" stroke=\"#000000\"/>\n",
       "<text fill=\"#000000\" font-family=\"Times,serif\" font-size=\"14.00\" text-anchor=\"middle\" x=\"455.5\" y=\"-52.8\">gini = 0.018</text>\n",
       "<text fill=\"#000000\" font-family=\"Times,serif\" font-size=\"14.00\" text-anchor=\"middle\" x=\"455.5\" y=\"-37.8\">samples = 215</text>\n",
       "<text fill=\"#000000\" font-family=\"Times,serif\" font-size=\"14.00\" text-anchor=\"middle\" x=\"455.5\" y=\"-22.8\">value = [2, 213]</text>\n",
       "<text fill=\"#000000\" font-family=\"Times,serif\" font-size=\"14.00\" text-anchor=\"middle\" x=\"455.5\" y=\"-7.8\">class = &gt; $50k</text>\n",
       "</g>\n",
       "<!-- 5&#45;&gt;7 -->\n",
       "<g class=\"edge\" id=\"edge7\">\n",
       "<title>5-&gt;7</title>\n",
       "<path d=\"M419.7247,-103.9815C424.1881,-95.2504 428.9067,-86.0202 433.4013,-77.2281\" fill=\"none\" stroke=\"#000000\"/>\n",
       "<polygon fill=\"#000000\" points=\"436.5486,-78.7608 437.984,-68.2637 430.3158,-75.5745 436.5486,-78.7608\" stroke=\"#000000\"/>\n",
       "</g>\n",
       "<!-- 9 -->\n",
       "<g class=\"node\" id=\"node10\">\n",
       "<title>9</title>\n",
       "<polygon fill=\"#f1bc95\" points=\"720.5,-187 578.5,-187 578.5,-104 720.5,-104 720.5,-187\" stroke=\"#000000\"/>\n",
       "<text fill=\"#000000\" font-family=\"Times,serif\" font-size=\"14.00\" text-anchor=\"middle\" x=\"649.5\" y=\"-171.8\">capital-gain &lt;= 5095.5</text>\n",
       "<text fill=\"#000000\" font-family=\"Times,serif\" font-size=\"14.00\" text-anchor=\"middle\" x=\"649.5\" y=\"-156.8\">gini = 0.433</text>\n",
       "<text fill=\"#000000\" font-family=\"Times,serif\" font-size=\"14.00\" text-anchor=\"middle\" x=\"649.5\" y=\"-141.8\">samples = 7237</text>\n",
       "<text fill=\"#000000\" font-family=\"Times,serif\" font-size=\"14.00\" text-anchor=\"middle\" x=\"649.5\" y=\"-126.8\">value = [4942, 2295]</text>\n",
       "<text fill=\"#000000\" font-family=\"Times,serif\" font-size=\"14.00\" text-anchor=\"middle\" x=\"649.5\" y=\"-111.8\">class = &lt; $50k</text>\n",
       "</g>\n",
       "<!-- 8&#45;&gt;9 -->\n",
       "<g class=\"edge\" id=\"edge9\">\n",
       "<title>8-&gt;9</title>\n",
       "<path d=\"M649.5,-222.8796C649.5,-214.6838 649.5,-205.9891 649.5,-197.5013\" fill=\"none\" stroke=\"#000000\"/>\n",
       "<polygon fill=\"#000000\" points=\"653.0001,-197.298 649.5,-187.2981 646.0001,-197.2981 653.0001,-197.298\" stroke=\"#000000\"/>\n",
       "</g>\n",
       "<!-- 12 -->\n",
       "<g class=\"node\" id=\"node13\">\n",
       "<title>12</title>\n",
       "<polygon fill=\"#8fc7f0\" points=\"937.5,-187 795.5,-187 795.5,-104 937.5,-104 937.5,-187\" stroke=\"#000000\"/>\n",
       "<text fill=\"#000000\" font-family=\"Times,serif\" font-size=\"14.00\" text-anchor=\"middle\" x=\"866.5\" y=\"-171.8\">capital-gain &lt;= 5095.5</text>\n",
       "<text fill=\"#000000\" font-family=\"Times,serif\" font-size=\"14.00\" text-anchor=\"middle\" x=\"866.5\" y=\"-156.8\">gini = 0.422</text>\n",
       "<text fill=\"#000000\" font-family=\"Times,serif\" font-size=\"14.00\" text-anchor=\"middle\" x=\"866.5\" y=\"-141.8\">samples = 3554</text>\n",
       "<text fill=\"#000000\" font-family=\"Times,serif\" font-size=\"14.00\" text-anchor=\"middle\" x=\"866.5\" y=\"-126.8\">value = [1075, 2479]</text>\n",
       "<text fill=\"#000000\" font-family=\"Times,serif\" font-size=\"14.00\" text-anchor=\"middle\" x=\"866.5\" y=\"-111.8\">class = &gt; $50k</text>\n",
       "</g>\n",
       "<!-- 8&#45;&gt;12 -->\n",
       "<g class=\"edge\" id=\"edge12\">\n",
       "<title>8-&gt;12</title>\n",
       "<path d=\"M722.6638,-224.3779C743.2271,-213.1012 765.6915,-200.7821 786.6248,-189.3025\" fill=\"none\" stroke=\"#000000\"/>\n",
       "<polygon fill=\"#000000\" points=\"788.4072,-192.3169 795.4924,-184.4396 785.0414,-186.1792 788.4072,-192.3169\" stroke=\"#000000\"/>\n",
       "</g>\n",
       "<!-- 10 -->\n",
       "<g class=\"node\" id=\"node11\">\n",
       "<title>10</title>\n",
       "<polygon fill=\"#efb387\" points=\"658.5,-68 526.5,-68 526.5,0 658.5,0 658.5,-68\" stroke=\"#000000\"/>\n",
       "<text fill=\"#000000\" font-family=\"Times,serif\" font-size=\"14.00\" text-anchor=\"middle\" x=\"592.5\" y=\"-52.8\">gini = 0.406</text>\n",
       "<text fill=\"#000000\" font-family=\"Times,serif\" font-size=\"14.00\" text-anchor=\"middle\" x=\"592.5\" y=\"-37.8\">samples = 6892</text>\n",
       "<text fill=\"#000000\" font-family=\"Times,serif\" font-size=\"14.00\" text-anchor=\"middle\" x=\"592.5\" y=\"-22.8\">value = [4937, 1955]</text>\n",
       "<text fill=\"#000000\" font-family=\"Times,serif\" font-size=\"14.00\" text-anchor=\"middle\" x=\"592.5\" y=\"-7.8\">class = &lt; $50k</text>\n",
       "</g>\n",
       "<!-- 9&#45;&gt;10 -->\n",
       "<g class=\"edge\" id=\"edge10\">\n",
       "<title>9-&gt;10</title>\n",
       "<path d=\"M628.2753,-103.9815C623.8119,-95.2504 619.0933,-86.0202 614.5987,-77.2281\" fill=\"none\" stroke=\"#000000\"/>\n",
       "<polygon fill=\"#000000\" points=\"617.6842,-75.5745 610.016,-68.2637 611.4514,-78.7608 617.6842,-75.5745\" stroke=\"#000000\"/>\n",
       "</g>\n",
       "<!-- 11 -->\n",
       "<g class=\"node\" id=\"node12\">\n",
       "<title>11</title>\n",
       "<polygon fill=\"#3c9ee5\" points=\"782,-68 677,-68 677,0 782,0 782,-68\" stroke=\"#000000\"/>\n",
       "<text fill=\"#000000\" font-family=\"Times,serif\" font-size=\"14.00\" text-anchor=\"middle\" x=\"729.5\" y=\"-52.8\">gini = 0.029</text>\n",
       "<text fill=\"#000000\" font-family=\"Times,serif\" font-size=\"14.00\" text-anchor=\"middle\" x=\"729.5\" y=\"-37.8\">samples = 345</text>\n",
       "<text fill=\"#000000\" font-family=\"Times,serif\" font-size=\"14.00\" text-anchor=\"middle\" x=\"729.5\" y=\"-22.8\">value = [5, 340]</text>\n",
       "<text fill=\"#000000\" font-family=\"Times,serif\" font-size=\"14.00\" text-anchor=\"middle\" x=\"729.5\" y=\"-7.8\">class = &gt; $50k</text>\n",
       "</g>\n",
       "<!-- 9&#45;&gt;11 -->\n",
       "<g class=\"edge\" id=\"edge11\">\n",
       "<title>9-&gt;11</title>\n",
       "<path d=\"M679.289,-103.9815C685.7514,-94.9747 692.5948,-85.4367 699.081,-76.3965\" fill=\"none\" stroke=\"#000000\"/>\n",
       "<polygon fill=\"#000000\" points=\"701.9303,-78.4291 704.9162,-68.2637 696.2428,-74.3483 701.9303,-78.4291\" stroke=\"#000000\"/>\n",
       "</g>\n",
       "<!-- 13 -->\n",
       "<g class=\"node\" id=\"node14\">\n",
       "<title>13</title>\n",
       "<polygon fill=\"#a5d2f3\" points=\"932.5,-68 800.5,-68 800.5,0 932.5,0 932.5,-68\" stroke=\"#000000\"/>\n",
       "<text fill=\"#000000\" font-family=\"Times,serif\" font-size=\"14.00\" text-anchor=\"middle\" x=\"866.5\" y=\"-52.8\">gini = 0.457</text>\n",
       "<text fill=\"#000000\" font-family=\"Times,serif\" font-size=\"14.00\" text-anchor=\"middle\" x=\"866.5\" y=\"-37.8\">samples = 3043</text>\n",
       "<text fill=\"#000000\" font-family=\"Times,serif\" font-size=\"14.00\" text-anchor=\"middle\" x=\"866.5\" y=\"-22.8\">value = [1073, 1970]</text>\n",
       "<text fill=\"#000000\" font-family=\"Times,serif\" font-size=\"14.00\" text-anchor=\"middle\" x=\"866.5\" y=\"-7.8\">class = &gt; $50k</text>\n",
       "</g>\n",
       "<!-- 12&#45;&gt;13 -->\n",
       "<g class=\"edge\" id=\"edge13\">\n",
       "<title>12-&gt;13</title>\n",
       "<path d=\"M866.5,-103.9815C866.5,-95.618 866.5,-86.7965 866.5,-78.3409\" fill=\"none\" stroke=\"#000000\"/>\n",
       "<polygon fill=\"#000000\" points=\"870.0001,-78.2636 866.5,-68.2637 863.0001,-78.2637 870.0001,-78.2636\" stroke=\"#000000\"/>\n",
       "</g>\n",
       "<!-- 14 -->\n",
       "<g class=\"node\" id=\"node15\">\n",
       "<title>14</title>\n",
       "<polygon fill=\"#3a9de5\" points=\"1056,-68 951,-68 951,0 1056,0 1056,-68\" stroke=\"#000000\"/>\n",
       "<text fill=\"#000000\" font-family=\"Times,serif\" font-size=\"14.00\" text-anchor=\"middle\" x=\"1003.5\" y=\"-52.8\">gini = 0.008</text>\n",
       "<text fill=\"#000000\" font-family=\"Times,serif\" font-size=\"14.00\" text-anchor=\"middle\" x=\"1003.5\" y=\"-37.8\">samples = 511</text>\n",
       "<text fill=\"#000000\" font-family=\"Times,serif\" font-size=\"14.00\" text-anchor=\"middle\" x=\"1003.5\" y=\"-22.8\">value = [2, 509]</text>\n",
       "<text fill=\"#000000\" font-family=\"Times,serif\" font-size=\"14.00\" text-anchor=\"middle\" x=\"1003.5\" y=\"-7.8\">class = &gt; $50k</text>\n",
       "</g>\n",
       "<!-- 12&#45;&gt;14 -->\n",
       "<g class=\"edge\" id=\"edge14\">\n",
       "<title>12-&gt;14</title>\n",
       "<path d=\"M917.5137,-103.9815C929.258,-94.4232 941.7372,-84.2668 953.4405,-74.7419\" fill=\"none\" stroke=\"#000000\"/>\n",
       "<polygon fill=\"#000000\" points=\"955.8536,-77.2906 961.4002,-68.2637 951.435,-71.8614 955.8536,-77.2906\" stroke=\"#000000\"/>\n",
       "</g>\n",
       "</g>\n",
       "</svg>"
      ],
      "text/plain": [
       "<IPython.core.display.SVG object>"
      ]
     },
     "metadata": {},
     "output_type": "display_data"
    }
   ],
   "source": [
    "graph = Source(tree.export_graphviz(model_t, out_file=None\n",
    "   , feature_names= df.columns[0:39], class_names=['< $50k','> $50k'] \n",
    "   , filled = True))\n",
    "\n",
    "display(SVG(graph.pipe(format='svg')))"
   ]
  },
  {
   "cell_type": "markdown",
   "metadata": {},
   "source": [
    "#### Uniform Attack\n",
    "\n",
    "We perform a uniform attack and observe the accuracy."
   ]
  },
  {
   "cell_type": "code",
   "execution_count": 9,
   "metadata": {},
   "outputs": [],
   "source": [
    "query_num = np.arange(10,1000,10)\n",
    "accs = np.zeros(query_num.size)\n",
    "og_acc = np.zeros(query_num.size)\n",
    "accs_idx = 0\n",
    "\n",
    "for num in query_num:\n",
    "    # take subset of query data and obtain labels from real classifier\n",
    "    samp = query_data.sample(n=num)\n",
    "    sweep_labels = model_t.predict(samp)\n",
    "    # Build stolen classifier with output data\n",
    "    model_sweep_t = tree.DecisionTreeClassifier(max_depth=3)\n",
    "    model_sweep_t.fit(samp,sweep_labels)\n",
    "    sweep_pred = model_sweep_t.predict(total_test_data)\n",
    "    accs[accs_idx] = accuracy_score(total_test_label,sweep_pred)\n",
    "    \n",
    "    y_pred = model_t.predict(total_train_data)\n",
    "    og_acc[accs_idx] = model_t.score(total_test_data, total_test_label)\n",
    "    \n",
    "    accs_idx += 1"
   ]
  },
  {
   "cell_type": "code",
   "execution_count": 10,
   "metadata": {},
   "outputs": [
    {
     "data": {
      "text/plain": [
       "<matplotlib.legend.Legend at 0x7ffba4548e90>"
      ]
     },
     "execution_count": 10,
     "metadata": {},
     "output_type": "execute_result"
    },
    {
     "data": {
      "image/png": "[encoded data removed]",
      "text/plain": [
       "<Figure size 432x288 with 1 Axes>"
      ]
     },
     "metadata": {
      "needs_background": "light"
     },
     "output_type": "display_data"
    }
   ],
   "source": [
    "# Plot the accuracy\n",
    "plt.plot(query_num,accs)\n",
    "plt.plot(query_num,og_acc, label = \"Original Classifier\")\n",
    "plt.title(\"Stolen Decision Tree Accuracy with Queries\")\n",
    "plt.xlabel(\"Number of Queries\")\n",
    "plt.ylabel(\"Accuracy Proportion\")\n",
    "\n",
    "plt.gca().legend(('Stolen Classifier','Original Classifier'))"
   ]
  },
  {
   "cell_type": "markdown",
   "metadata": {},
   "source": [
    "#### Adaptive training attack\n",
    "Here we iteratively build a model by sampling the most unsure values as we increase the number of queries."
   ]
  },
  {
   "cell_type": "code",
   "execution_count": 13,
   "metadata": {},
   "outputs": [],
   "source": [
    "# Sim params\n",
    "num_iters = 100\n",
    "accs2 = np.zeros(num_iters-1)\n",
    "accs_idx = 0\n",
    "query_num2 = range(10,1000,10)\n",
    "\n",
    "# First we sample 10 points at random to build an initial model\n",
    "num = 10\n",
    "collected_queries = query_data.sample(n=num).to_numpy()\n",
    "collected_labels = model_t.predict(collected_queries)\n",
    "# Build stolen classifier with output data\n",
    "model_sweep_t = tree.DecisionTreeClassifier(max_depth=10)\n",
    "model_sweep_t.fit(collected_queries,collected_labels)\n",
    "\n",
    "for itr in range(0,len(query_num2)):\n",
    "    num = 10\n",
    "    # take subset of query data and obtain labels from real classifier\n",
    "    samp = query_data.sample(n=num * 5)\n",
    "    \n",
    "    # We find labels with lowest probability for our current model\n",
    "    curr_preds = model_sweep_t.predict_proba(samp)\n",
    "    confs = abs(curr_preds[:,1] - 0.5)\n",
    "    idxs = confs.argsort()[:num]\n",
    "    \n",
    "    # Get new query data\n",
    "    np_samp_min = samp.to_numpy()[idxs,:]\n",
    "    \n",
    "    # Append to total data and Get new labels\n",
    "    collected_queries = np.append(collected_queries,np_samp_min,axis = 0)\n",
    "    sweep_labels = model_t.predict(np_samp_min)\n",
    "    collected_labels = np.append(collected_labels,sweep_labels)\n",
    "    \n",
    "    # Build stolen classifier with output data\n",
    "    model_sweep_t = tree.DecisionTreeClassifier(max_depth=3)\n",
    "    model_sweep_t.fit(collected_queries,collected_labels)\n",
    "    sweep_pred = model_sweep_t.predict(total_test_data)\n",
    "    accs2[itr] = accuracy_score(total_test_label,sweep_pred)"
   ]
  },
  {
   "cell_type": "code",
   "execution_count": 14,
   "metadata": {},
   "outputs": [
    {
     "data": {
      "text/plain": [
       "<matplotlib.legend.Legend at 0x7ffb7436d490>"
      ]
     },
     "execution_count": 14,
     "metadata": {},
     "output_type": "execute_result"
    },
    {
     "data": {
      "image/png": "[encoded data removed]",
      "text/plain": [
       "<Figure size 432x288 with 1 Axes>"
      ]
     },
     "metadata": {
      "needs_background": "light"
     },
     "output_type": "display_data"
    }
   ],
   "source": [
    "# Plot the accuracy\n",
    "plt.plot(query_num,accs)\n",
    "plt.plot(query_num2,accs2)\n",
    "plt.plot(query_num,og_acc, label = \"Original Classifier\")\n",
    "plt.title(\"Stolen Decision Tree Accuracy with Queries\")\n",
    "plt.xlabel(\"Number of Queries\")\n",
    "plt.ylabel(\"Accuracy Proportion\")\n",
    "\n",
    "plt.gca().legend(('Stolen Classifier Uniform','Stolen Classifier Adaptive','Original Classifier'))"
   ]
  },
  {
   "cell_type": "markdown",
   "metadata": {},
   "source": [
    "We observe for the decision tree case, the uniform attack does perform similarily to the adaptive attack during the beginning. However, the two performances soon converge around 200 queries. The adaptive attack may not be effective for decision trees as we are not infact querying near the \"decision boundary\" of parametric approaches, but rather querying data with high uncertainty (potentially in the original classifier as well). It is important to note that the adaptive method is less noisy."
   ]
  },
  {
   "cell_type": "code",
   "execution_count": 15,
   "metadata": {},
   "outputs": [
    {
     "data": {
      "image/svg+xml": [
       "<svg height=\"433pt\" viewBox=\"0.00 0.00 578.00 433.00\" width=\"578pt\" xmlns=\"http://www.w3.org/2000/svg\" xmlns:xlink=\"http://www.w3.org/1999/xlink\">\n",
       "<g class=\"graph\" id=\"graph0\" transform=\"scale(1 1) rotate(0) translate(4 429)\">\n",
       "<title>Tree</title>\n",
       "<polygon fill=\"#ffffff\" points=\"-4,4 -4,-429 574,-429 574,4 -4,4\" stroke=\"transparent\"/>\n",
       "<!-- 0 -->\n",
       "<g class=\"node\" id=\"node1\">\n",
       "<title>0</title>\n",
       "<polygon fill=\"#eca16b\" points=\"349.5,-425 203.5,-425 203.5,-342 349.5,-342 349.5,-425\" stroke=\"#000000\"/>\n",
       "<text fill=\"#000000\" font-family=\"Times,serif\" font-size=\"14.00\" text-anchor=\"middle\" x=\"276.5\" y=\"-409.8\">education-num &lt;= 11.5</text>\n",
       "<text fill=\"#000000\" font-family=\"Times,serif\" font-size=\"14.00\" text-anchor=\"middle\" x=\"276.5\" y=\"-394.8\">gini = 0.322</text>\n",
       "<text fill=\"#000000\" font-family=\"Times,serif\" font-size=\"14.00\" text-anchor=\"middle\" x=\"276.5\" y=\"-379.8\">samples = 1000</text>\n",
       "<text fill=\"#000000\" font-family=\"Times,serif\" font-size=\"14.00\" text-anchor=\"middle\" x=\"276.5\" y=\"-364.8\">value = [798, 202]</text>\n",
       "<text fill=\"#000000\" font-family=\"Times,serif\" font-size=\"14.00\" text-anchor=\"middle\" x=\"276.5\" y=\"-349.8\">class = &lt; $50k</text>\n",
       "</g>\n",
       "<!-- 1 -->\n",
       "<g class=\"node\" id=\"node2\">\n",
       "<title>1</title>\n",
       "<polygon fill=\"#e68743\" points=\"243.5,-306 101.5,-306 101.5,-223 243.5,-223 243.5,-306\" stroke=\"#000000\"/>\n",
       "<text fill=\"#000000\" font-family=\"Times,serif\" font-size=\"14.00\" text-anchor=\"middle\" x=\"172.5\" y=\"-290.8\">capital-gain &lt;= 5095.5</text>\n",
       "<text fill=\"#000000\" font-family=\"Times,serif\" font-size=\"14.00\" text-anchor=\"middle\" x=\"172.5\" y=\"-275.8\">gini = 0.093</text>\n",
       "<text fill=\"#000000\" font-family=\"Times,serif\" font-size=\"14.00\" text-anchor=\"middle\" x=\"172.5\" y=\"-260.8\">samples = 719</text>\n",
       "<text fill=\"#000000\" font-family=\"Times,serif\" font-size=\"14.00\" text-anchor=\"middle\" x=\"172.5\" y=\"-245.8\">value = [684, 35]</text>\n",
       "<text fill=\"#000000\" font-family=\"Times,serif\" font-size=\"14.00\" text-anchor=\"middle\" x=\"172.5\" y=\"-230.8\">class = &lt; $50k</text>\n",
       "</g>\n",
       "<!-- 0&#45;&gt;1 -->\n",
       "<g class=\"edge\" id=\"edge1\">\n",
       "<title>0-&gt;1</title>\n",
       "<path d=\"M240.1258,-341.8796C232.2548,-332.8733 223.8571,-323.2644 215.7515,-313.9897\" fill=\"none\" stroke=\"#000000\"/>\n",
       "<polygon fill=\"#000000\" points=\"218.2454,-311.5246 209.0294,-306.2981 212.9746,-316.131 218.2454,-311.5246\" stroke=\"#000000\"/>\n",
       "<text fill=\"#000000\" font-family=\"Times,serif\" font-size=\"14.00\" text-anchor=\"middle\" x=\"207.3516\" y=\"-327.5417\">True</text>\n",
       "</g>\n",
       "<!-- 6 -->\n",
       "<g class=\"node\" id=\"node7\">\n",
       "<title>6</title>\n",
       "<polygon fill=\"#c0e0f7\" points=\"499,-306 262,-306 262,-223 499,-223 499,-306\" stroke=\"#000000\"/>\n",
       "<text fill=\"#000000\" font-family=\"Times,serif\" font-size=\"14.00\" text-anchor=\"middle\" x=\"380.5\" y=\"-290.8\">Martial_Cat_Married-civ-spouse &lt;= 0.5</text>\n",
       "<text fill=\"#000000\" font-family=\"Times,serif\" font-size=\"14.00\" text-anchor=\"middle\" x=\"380.5\" y=\"-275.8\">gini = 0.482</text>\n",
       "<text fill=\"#000000\" font-family=\"Times,serif\" font-size=\"14.00\" text-anchor=\"middle\" x=\"380.5\" y=\"-260.8\">samples = 281</text>\n",
       "<text fill=\"#000000\" font-family=\"Times,serif\" font-size=\"14.00\" text-anchor=\"middle\" x=\"380.5\" y=\"-245.8\">value = [114, 167]</text>\n",
       "<text fill=\"#000000\" font-family=\"Times,serif\" font-size=\"14.00\" text-anchor=\"middle\" x=\"380.5\" y=\"-230.8\">class = &gt; $50k</text>\n",
       "</g>\n",
       "<!-- 0&#45;&gt;6 -->\n",
       "<g class=\"edge\" id=\"edge6\">\n",
       "<title>0-&gt;6</title>\n",
       "<path d=\"M312.8742,-341.8796C320.7452,-332.8733 329.1429,-323.2644 337.2485,-313.9897\" fill=\"none\" stroke=\"#000000\"/>\n",
       "<polygon fill=\"#000000\" points=\"340.0254,-316.131 343.9706,-306.2981 334.7546,-311.5246 340.0254,-316.131\" stroke=\"#000000\"/>\n",
       "<text fill=\"#000000\" font-family=\"Times,serif\" font-size=\"14.00\" text-anchor=\"middle\" x=\"345.6484\" y=\"-327.5417\">False</text>\n",
       "</g>\n",
       "<!-- 2 -->\n",
       "<g class=\"node\" id=\"node3\">\n",
       "<title>2</title>\n",
       "<polygon fill=\"#e58139\" points=\"105,-179.5 0,-179.5 0,-111.5 105,-111.5 105,-179.5\" stroke=\"#000000\"/>\n",
       "<text fill=\"#000000\" font-family=\"Times,serif\" font-size=\"14.00\" text-anchor=\"middle\" x=\"52.5\" y=\"-164.3\">gini = 0.0</text>\n",
       "<text fill=\"#000000\" font-family=\"Times,serif\" font-size=\"14.00\" text-anchor=\"middle\" x=\"52.5\" y=\"-149.3\">samples = 681</text>\n",
       "<text fill=\"#000000\" font-family=\"Times,serif\" font-size=\"14.00\" text-anchor=\"middle\" x=\"52.5\" y=\"-134.3\">value = [681, 0]</text>\n",
       "<text fill=\"#000000\" font-family=\"Times,serif\" font-size=\"14.00\" text-anchor=\"middle\" x=\"52.5\" y=\"-119.3\">class = &lt; $50k</text>\n",
       "</g>\n",
       "<!-- 1&#45;&gt;2 -->\n",
       "<g class=\"edge\" id=\"edge2\">\n",
       "<title>1-&gt;2</title>\n",
       "<path d=\"M130.5298,-222.8796C118.776,-211.2237 106.0046,-198.5587 94.2628,-186.9148\" fill=\"none\" stroke=\"#000000\"/>\n",
       "<polygon fill=\"#000000\" points=\"96.6684,-184.3712 87.1033,-179.8149 91.7394,-189.3416 96.6684,-184.3712\" stroke=\"#000000\"/>\n",
       "</g>\n",
       "<!-- 3 -->\n",
       "<g class=\"node\" id=\"node4\">\n",
       "<title>3</title>\n",
       "<polygon fill=\"#4aa5e7\" points=\"265.5,-187 123.5,-187 123.5,-104 265.5,-104 265.5,-187\" stroke=\"#000000\"/>\n",
       "<text fill=\"#000000\" font-family=\"Times,serif\" font-size=\"14.00\" text-anchor=\"middle\" x=\"194.5\" y=\"-171.8\">capital-gain &lt;= 7073.5</text>\n",
       "<text fill=\"#000000\" font-family=\"Times,serif\" font-size=\"14.00\" text-anchor=\"middle\" x=\"194.5\" y=\"-156.8\">gini = 0.145</text>\n",
       "<text fill=\"#000000\" font-family=\"Times,serif\" font-size=\"14.00\" text-anchor=\"middle\" x=\"194.5\" y=\"-141.8\">samples = 38</text>\n",
       "<text fill=\"#000000\" font-family=\"Times,serif\" font-size=\"14.00\" text-anchor=\"middle\" x=\"194.5\" y=\"-126.8\">value = [3, 35]</text>\n",
       "<text fill=\"#000000\" font-family=\"Times,serif\" font-size=\"14.00\" text-anchor=\"middle\" x=\"194.5\" y=\"-111.8\">class = &gt; $50k</text>\n",
       "</g>\n",
       "<!-- 1&#45;&gt;3 -->\n",
       "<g class=\"edge\" id=\"edge3\">\n",
       "<title>1-&gt;3</title>\n",
       "<path d=\"M180.1945,-222.8796C181.7264,-214.5938 183.3525,-205.798 184.938,-197.2216\" fill=\"none\" stroke=\"#000000\"/>\n",
       "<polygon fill=\"#000000\" points=\"188.3963,-197.7677 186.7726,-187.2981 181.5129,-196.4951 188.3963,-197.7677\" stroke=\"#000000\"/>\n",
       "</g>\n",
       "<!-- 4 -->\n",
       "<g class=\"node\" id=\"node5\">\n",
       "<title>4</title>\n",
       "<polygon fill=\"#b0d8f5\" points=\"138.5,-68 40.5,-68 40.5,0 138.5,0 138.5,-68\" stroke=\"#000000\"/>\n",
       "<text fill=\"#000000\" font-family=\"Times,serif\" font-size=\"14.00\" text-anchor=\"middle\" x=\"89.5\" y=\"-52.8\">gini = 0.469</text>\n",
       "<text fill=\"#000000\" font-family=\"Times,serif\" font-size=\"14.00\" text-anchor=\"middle\" x=\"89.5\" y=\"-37.8\">samples = 8</text>\n",
       "<text fill=\"#000000\" font-family=\"Times,serif\" font-size=\"14.00\" text-anchor=\"middle\" x=\"89.5\" y=\"-22.8\">value = [3, 5]</text>\n",
       "<text fill=\"#000000\" font-family=\"Times,serif\" font-size=\"14.00\" text-anchor=\"middle\" x=\"89.5\" y=\"-7.8\">class = &gt; $50k</text>\n",
       "</g>\n",
       "<!-- 3&#45;&gt;4 -->\n",
       "<g class=\"edge\" id=\"edge4\">\n",
       "<title>3-&gt;4</title>\n",
       "<path d=\"M155.4019,-103.9815C146.6604,-94.6989 137.3878,-84.8522 128.6444,-75.5677\" fill=\"none\" stroke=\"#000000\"/>\n",
       "<polygon fill=\"#000000\" points=\"131.17,-73.1443 121.7662,-68.2637 126.0739,-77.9433 131.17,-73.1443\" stroke=\"#000000\"/>\n",
       "</g>\n",
       "<!-- 5 -->\n",
       "<g class=\"node\" id=\"node6\">\n",
       "<title>5</title>\n",
       "<polygon fill=\"#399de5\" points=\"254.5,-68 156.5,-68 156.5,0 254.5,0 254.5,-68\" stroke=\"#000000\"/>\n",
       "<text fill=\"#000000\" font-family=\"Times,serif\" font-size=\"14.00\" text-anchor=\"middle\" x=\"205.5\" y=\"-52.8\">gini = 0.0</text>\n",
       "<text fill=\"#000000\" font-family=\"Times,serif\" font-size=\"14.00\" text-anchor=\"middle\" x=\"205.5\" y=\"-37.8\">samples = 30</text>\n",
       "<text fill=\"#000000\" font-family=\"Times,serif\" font-size=\"14.00\" text-anchor=\"middle\" x=\"205.5\" y=\"-22.8\">value = [0, 30]</text>\n",
       "<text fill=\"#000000\" font-family=\"Times,serif\" font-size=\"14.00\" text-anchor=\"middle\" x=\"205.5\" y=\"-7.8\">class = &gt; $50k</text>\n",
       "</g>\n",
       "<!-- 3&#45;&gt;5 -->\n",
       "<g class=\"edge\" id=\"edge5\">\n",
       "<title>3-&gt;5</title>\n",
       "<path d=\"M198.596,-103.9815C199.4211,-95.618 200.2914,-86.7965 201.1256,-78.3409\" fill=\"none\" stroke=\"#000000\"/>\n",
       "<polygon fill=\"#000000\" points=\"204.6209,-78.559 202.1197,-68.2637 197.6548,-77.8717 204.6209,-78.559\" stroke=\"#000000\"/>\n",
       "</g>\n",
       "<!-- 7 -->\n",
       "<g class=\"node\" id=\"node8\">\n",
       "<title>7</title>\n",
       "<polygon fill=\"#e78b49\" points=\"446.5,-187 304.5,-187 304.5,-104 446.5,-104 446.5,-187\" stroke=\"#000000\"/>\n",
       "<text fill=\"#000000\" font-family=\"Times,serif\" font-size=\"14.00\" text-anchor=\"middle\" x=\"375.5\" y=\"-171.8\">capital-gain &lt;= 7167.5</text>\n",
       "<text fill=\"#000000\" font-family=\"Times,serif\" font-size=\"14.00\" text-anchor=\"middle\" x=\"375.5\" y=\"-156.8\">gini = 0.136</text>\n",
       "<text fill=\"#000000\" font-family=\"Times,serif\" font-size=\"14.00\" text-anchor=\"middle\" x=\"375.5\" y=\"-141.8\">samples = 123</text>\n",
       "<text fill=\"#000000\" font-family=\"Times,serif\" font-size=\"14.00\" text-anchor=\"middle\" x=\"375.5\" y=\"-126.8\">value = [114, 9]</text>\n",
       "<text fill=\"#000000\" font-family=\"Times,serif\" font-size=\"14.00\" text-anchor=\"middle\" x=\"375.5\" y=\"-111.8\">class = &lt; $50k</text>\n",
       "</g>\n",
       "<!-- 6&#45;&gt;7 -->\n",
       "<g class=\"edge\" id=\"edge7\">\n",
       "<title>6-&gt;7</title>\n",
       "<path d=\"M378.7512,-222.8796C378.4069,-214.6838 378.0416,-205.9891 377.6849,-197.5013\" fill=\"none\" stroke=\"#000000\"/>\n",
       "<polygon fill=\"#000000\" points=\"381.173,-197.1423 377.2562,-187.2981 374.1792,-197.4362 381.173,-197.1423\" stroke=\"#000000\"/>\n",
       "</g>\n",
       "<!-- 10 -->\n",
       "<g class=\"node\" id=\"node11\">\n",
       "<title>10</title>\n",
       "<polygon fill=\"#399de5\" points=\"570,-179.5 465,-179.5 465,-111.5 570,-111.5 570,-179.5\" stroke=\"#000000\"/>\n",
       "<text fill=\"#000000\" font-family=\"Times,serif\" font-size=\"14.00\" text-anchor=\"middle\" x=\"517.5\" y=\"-164.3\">gini = 0.0</text>\n",
       "<text fill=\"#000000\" font-family=\"Times,serif\" font-size=\"14.00\" text-anchor=\"middle\" x=\"517.5\" y=\"-149.3\">samples = 158</text>\n",
       "<text fill=\"#000000\" font-family=\"Times,serif\" font-size=\"14.00\" text-anchor=\"middle\" x=\"517.5\" y=\"-134.3\">value = [0, 158]</text>\n",
       "<text fill=\"#000000\" font-family=\"Times,serif\" font-size=\"14.00\" text-anchor=\"middle\" x=\"517.5\" y=\"-119.3\">class = &gt; $50k</text>\n",
       "</g>\n",
       "<!-- 6&#45;&gt;10 -->\n",
       "<g class=\"edge\" id=\"edge10\">\n",
       "<title>6-&gt;10</title>\n",
       "<path d=\"M428.416,-222.8796C441.9615,-211.1138 456.6908,-198.3197 470.1998,-186.5855\" fill=\"none\" stroke=\"#000000\"/>\n",
       "<polygon fill=\"#000000\" points=\"472.7401,-189.015 477.9946,-179.8149 468.1497,-183.7303 472.7401,-189.015\" stroke=\"#000000\"/>\n",
       "</g>\n",
       "<!-- 8 -->\n",
       "<g class=\"node\" id=\"node9\">\n",
       "<title>8</title>\n",
       "<polygon fill=\"#e58139\" points=\"422,-68 317,-68 317,0 422,0 422,-68\" stroke=\"#000000\"/>\n",
       "<text fill=\"#000000\" font-family=\"Times,serif\" font-size=\"14.00\" text-anchor=\"middle\" x=\"369.5\" y=\"-52.8\">gini = 0.0</text>\n",
       "<text fill=\"#000000\" font-family=\"Times,serif\" font-size=\"14.00\" text-anchor=\"middle\" x=\"369.5\" y=\"-37.8\">samples = 114</text>\n",
       "<text fill=\"#000000\" font-family=\"Times,serif\" font-size=\"14.00\" text-anchor=\"middle\" x=\"369.5\" y=\"-22.8\">value = [114, 0]</text>\n",
       "<text fill=\"#000000\" font-family=\"Times,serif\" font-size=\"14.00\" text-anchor=\"middle\" x=\"369.5\" y=\"-7.8\">class = &lt; $50k</text>\n",
       "</g>\n",
       "<!-- 7&#45;&gt;8 -->\n",
       "<g class=\"edge\" id=\"edge8\">\n",
       "<title>7-&gt;8</title>\n",
       "<path d=\"M373.2658,-103.9815C372.8158,-95.618 372.3411,-86.7965 371.8861,-78.3409\" fill=\"none\" stroke=\"#000000\"/>\n",
       "<polygon fill=\"#000000\" points=\"375.3762,-78.0611 371.3438,-68.2637 368.3863,-78.4373 375.3762,-78.0611\" stroke=\"#000000\"/>\n",
       "</g>\n",
       "<!-- 9 -->\n",
       "<g class=\"node\" id=\"node10\">\n",
       "<title>9</title>\n",
       "<polygon fill=\"#399de5\" points=\"538.5,-68 440.5,-68 440.5,0 538.5,0 538.5,-68\" stroke=\"#000000\"/>\n",
       "<text fill=\"#000000\" font-family=\"Times,serif\" font-size=\"14.00\" text-anchor=\"middle\" x=\"489.5\" y=\"-52.8\">gini = 0.0</text>\n",
       "<text fill=\"#000000\" font-family=\"Times,serif\" font-size=\"14.00\" text-anchor=\"middle\" x=\"489.5\" y=\"-37.8\">samples = 9</text>\n",
       "<text fill=\"#000000\" font-family=\"Times,serif\" font-size=\"14.00\" text-anchor=\"middle\" x=\"489.5\" y=\"-22.8\">value = [0, 9]</text>\n",
       "<text fill=\"#000000\" font-family=\"Times,serif\" font-size=\"14.00\" text-anchor=\"middle\" x=\"489.5\" y=\"-7.8\">class = &gt; $50k</text>\n",
       "</g>\n",
       "<!-- 7&#45;&gt;9 -->\n",
       "<g class=\"edge\" id=\"edge9\">\n",
       "<title>7-&gt;9</title>\n",
       "<path d=\"M417.9494,-103.9815C427.5341,-94.607 437.707,-84.6572 447.2821,-75.2921\" fill=\"none\" stroke=\"#000000\"/>\n",
       "<polygon fill=\"#000000\" points=\"449.7663,-77.7581 454.4681,-68.2637 444.8717,-72.7538 449.7663,-77.7581\" stroke=\"#000000\"/>\n",
       "</g>\n",
       "</g>\n",
       "</svg>"
      ],
      "text/plain": [
       "<IPython.core.display.SVG object>"
      ]
     },
     "metadata": {},
     "output_type": "display_data"
    }
   ],
   "source": [
    "graph = Source(tree.export_graphviz(model_sweep_t, out_file=None\n",
    "   , feature_names= df.columns[0:39], class_names=['< $50k','> $50k'] \n",
    "   , filled = True))\n",
    "\n",
    "display(SVG(graph.pipe(format='svg')))"
   ]
  },
  {
   "cell_type": "code",
   "execution_count": null,
   "metadata": {},
   "outputs": [],
   "source": []
  }
 ],
 "metadata": {
  "kernelspec": {
   "display_name": "Python 3",
   "language": "python",
   "name": "python3"
  },
  "language_info": {
   "codemirror_mode": {
    "name": "ipython",
    "version": 3
   },
   "file_extension": ".py",
   "mimetype": "text/x-python",
   "name": "python",
   "nbconvert_exporter": "python",
   "pygments_lexer": "ipython3",
   "version": "3.7.4"
  }
 },
 "nbformat": 4,
 "nbformat_minor": 2
}
